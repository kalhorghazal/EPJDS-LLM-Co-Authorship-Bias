{
  "nbformat": 4,
  "nbformat_minor": 0,
  "metadata": {
    "colab": {
      "provenance": []
    },
    "kernelspec": {
      "name": "python3",
      "display_name": "Python 3"
    },
    "language_info": {
      "name": "python"
    }
  },
  "cells": [
    {
      "cell_type": "code",
      "execution_count": 1,
      "metadata": {
        "id": "mI7Nh6_OhS4f"
      },
      "outputs": [],
      "source": [
        "!cp \"/content/drive/MyDrive/Authorship Bias Paper/Data/googleScholarNet.graphml\" .\n",
        "!cp \"/content/drive/MyDrive/Authorship Bias Paper/Data/openAInet.graphml\" ."
      ]
    },
    {
      "cell_type": "code",
      "source": [
        "import pandas as pd\n",
        "import numpy as np\n",
        "import networkx as nx"
      ],
      "metadata": {
        "id": "Mcluudlths0T"
      },
      "execution_count": 2,
      "outputs": []
    },
    {
      "cell_type": "markdown",
      "source": [
        "# Google Scholar Network"
      ],
      "metadata": {
        "id": "PkrpXhteR1XK"
      }
    },
    {
      "cell_type": "code",
      "source": [
        "scNet = nx.read_graphml(\"googleScholarNet.graphml\")"
      ],
      "metadata": {
        "id": "Uj81nnjbjsG8"
      },
      "execution_count": 3,
      "outputs": []
    },
    {
      "cell_type": "code",
      "source": [
        "scNet.number_of_nodes()"
      ],
      "metadata": {
        "id": "Bx0SQ6gk5DYS",
        "outputId": "bc4e658f-29b6-41d7-9f92-b54bae04546d",
        "colab": {
          "base_uri": "https://localhost:8080/"
        }
      },
      "execution_count": 4,
      "outputs": [
        {
          "output_type": "execute_result",
          "data": {
            "text/plain": [
              "9315"
            ]
          },
          "metadata": {},
          "execution_count": 4
        }
      ]
    },
    {
      "cell_type": "code",
      "source": [
        "scNet.number_of_edges()"
      ],
      "metadata": {
        "id": "gnb7D89P5Gw6",
        "outputId": "a8038281-1c0a-4baa-d3ad-7d838627360d",
        "colab": {
          "base_uri": "https://localhost:8080/"
        }
      },
      "execution_count": 5,
      "outputs": [
        {
          "output_type": "execute_result",
          "data": {
            "text/plain": [
              "12622"
            ]
          },
          "metadata": {},
          "execution_count": 5
        }
      ]
    },
    {
      "cell_type": "code",
      "source": [
        "nx.density(scNet)"
      ],
      "metadata": {
        "id": "WyFuG_pvAsKl",
        "outputId": "e0032d7f-89b3-48e1-ae2b-60205a4745e1",
        "colab": {
          "base_uri": "https://localhost:8080/"
        }
      },
      "execution_count": 6,
      "outputs": [
        {
          "output_type": "execute_result",
          "data": {
            "text/plain": [
              "0.00014548193975765997"
            ]
          },
          "metadata": {},
          "execution_count": 6
        }
      ]
    },
    {
      "cell_type": "code",
      "source": [
        "H = scNet.to_undirected()\n",
        "max_lcc = max(nx.connected_components(H), key=len)\n",
        "max_wcc = H.subgraph(max_lcc)\n",
        "\n",
        "clustering_coefficient = nx.average_clustering(max_wcc)\n",
        "print(\"Clustering Coefficient:\", clustering_coefficient)\n",
        "\n",
        "average_shortest_path_length = nx.average_shortest_path_length(max_wcc)\n",
        "print(\"Average Shortest Path Length:\", average_shortest_path_length)"
      ],
      "metadata": {
        "colab": {
          "base_uri": "https://localhost:8080/"
        },
        "id": "0sZSz06NiX_6",
        "outputId": "060ff03d-8f16-4bec-e0f7-6249923e0538"
      },
      "execution_count": 7,
      "outputs": [
        {
          "output_type": "stream",
          "name": "stdout",
          "text": [
            "Clustering Coefficient: 0.08960031824714763\n",
            "Average Shortest Path Length: 5.343980618328031\n"
          ]
        }
      ]
    },
    {
      "cell_type": "code",
      "source": [
        "nx.overall_reciprocity(scNet)"
      ],
      "metadata": {
        "colab": {
          "base_uri": "https://localhost:8080/"
        },
        "id": "5l_FH_6Bq6Vh",
        "outputId": "5fac0cd7-3aaa-4247-fa3a-0c663e2b26be"
      },
      "execution_count": 8,
      "outputs": [
        {
          "output_type": "execute_result",
          "data": {
            "text/plain": [
              "0.05720171129773412"
            ]
          },
          "metadata": {},
          "execution_count": 8
        }
      ]
    },
    {
      "cell_type": "markdown",
      "source": [
        "# OpenAI Network"
      ],
      "metadata": {
        "id": "2pJwE9F1R9D4"
      }
    },
    {
      "cell_type": "code",
      "source": [
        "AInet = nx.read_graphml(\"openAInet.graphml\")"
      ],
      "metadata": {
        "id": "aS9S1h4RnnNF"
      },
      "execution_count": 9,
      "outputs": []
    },
    {
      "cell_type": "code",
      "source": [
        "AInet.number_of_nodes()"
      ],
      "metadata": {
        "colab": {
          "base_uri": "https://localhost:8080/"
        },
        "id": "nc2lasoq-6Z2",
        "outputId": "11703f8c-d6bb-4eb7-c492-9c1b18301db6"
      },
      "execution_count": 10,
      "outputs": [
        {
          "output_type": "execute_result",
          "data": {
            "text/plain": [
              "4672"
            ]
          },
          "metadata": {},
          "execution_count": 10
        }
      ]
    },
    {
      "cell_type": "code",
      "source": [
        "AInet.number_of_edges()"
      ],
      "metadata": {
        "colab": {
          "base_uri": "https://localhost:8080/"
        },
        "id": "ZhJGNBe5-8w8",
        "outputId": "cffa9268-3f8b-44e0-f79b-0bd2897a6e6b"
      },
      "execution_count": 11,
      "outputs": [
        {
          "output_type": "execute_result",
          "data": {
            "text/plain": [
              "5543"
            ]
          },
          "metadata": {},
          "execution_count": 11
        }
      ]
    },
    {
      "cell_type": "code",
      "source": [
        "nx.density(AInet)"
      ],
      "metadata": {
        "colab": {
          "base_uri": "https://localhost:8080/"
        },
        "id": "pyGTU0pxAn13",
        "outputId": "dca7ac03-9a84-4e1f-80fa-3724430c794c"
      },
      "execution_count": 12,
      "outputs": [
        {
          "output_type": "execute_result",
          "data": {
            "text/plain": [
              "0.00025399909966185996"
            ]
          },
          "metadata": {},
          "execution_count": 12
        }
      ]
    },
    {
      "cell_type": "code",
      "source": [
        "H = AInet.to_undirected()\n",
        "max_lcc = max(nx.connected_components(H), key=len)\n",
        "max_wcc = H.subgraph(max_lcc)\n",
        "\n",
        "clustering_coefficient = nx.average_clustering(max_wcc)\n",
        "print(\"Clustering Coefficient:\", clustering_coefficient)\n",
        "\n",
        "average_shortest_path_length = nx.average_shortest_path_length(max_wcc)\n",
        "print(\"Average Shortest Path Length:\", average_shortest_path_length)"
      ],
      "metadata": {
        "colab": {
          "base_uri": "https://localhost:8080/"
        },
        "id": "VLA9Imv1nsEI",
        "outputId": "b150f35f-2ec3-4719-afca-484e1d05462b"
      },
      "execution_count": 13,
      "outputs": [
        {
          "output_type": "stream",
          "name": "stdout",
          "text": [
            "Clustering Coefficient: 0.007604717051963815\n",
            "Average Shortest Path Length: 8.936811363115995\n"
          ]
        }
      ]
    },
    {
      "cell_type": "code",
      "source": [
        "nx.overall_reciprocity(AInet)"
      ],
      "metadata": {
        "colab": {
          "base_uri": "https://localhost:8080/"
        },
        "id": "MWKX4wyLrC6R",
        "outputId": "b0250fbd-62b5-4dab-e5d0-53a6223ab13c"
      },
      "execution_count": 14,
      "outputs": [
        {
          "output_type": "execute_result",
          "data": {
            "text/plain": [
              "0.0007216308858019123"
            ]
          },
          "metadata": {},
          "execution_count": 14
        }
      ]
    }
  ]
}