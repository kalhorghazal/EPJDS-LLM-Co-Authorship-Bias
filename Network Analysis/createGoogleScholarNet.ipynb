{
  "nbformat": 4,
  "nbformat_minor": 0,
  "metadata": {
    "colab": {
      "provenance": []
    },
    "kernelspec": {
      "name": "python3",
      "display_name": "Python 3"
    },
    "language_info": {
      "name": "python"
    }
  },
  "cells": [
    {
      "cell_type": "code",
      "execution_count": 89,
      "metadata": {
        "id": "7zC1j9pdDhX7"
      },
      "outputs": [],
      "source": [
        "!cp \"/content/drive/MyDrive/Authorship Bias Paper/Data/finalData.csv\" ."
      ]
    },
    {
      "cell_type": "code",
      "source": [
        "import pandas as pd\n",
        "import numpy as np\n",
        "import networkx as nx"
      ],
      "metadata": {
        "id": "ooH7O2S3D-Yz"
      },
      "execution_count": 90,
      "outputs": []
    },
    {
      "cell_type": "code",
      "source": [
        "df = pd.read_csv(\"finalData.csv\")\n",
        "df.columns"
      ],
      "metadata": {
        "colab": {
          "base_uri": "https://localhost:8080/"
        },
        "id": "Ub8zr9opEOOo",
        "outputId": "742a82fc-4348-41c2-d168-b3fdb2bcbf38"
      },
      "execution_count": 91,
      "outputs": [
        {
          "output_type": "execute_result",
          "data": {
            "text/plain": [
              "Index(['Name', 'Google Scholar ID', 'Gender', 'Ethnicity', 'Affiliation',\n",
              "       'Country', 'h-index', 'Citation count',\n",
              "       'Co-authors’ names (Google Scholar)',\n",
              "       'Co-authors’ genders (Google Scholar)',\n",
              "       'Co-authors’ ethnicity (Google Scholar)', 'Co-authors’ names (OpenAI)',\n",
              "       'Co-authors’ genders (OpenAI)', 'Co-authors’ ethnicity (OpenAI)'],\n",
              "      dtype='object')"
            ]
          },
          "metadata": {},
          "execution_count": 91
        }
      ]
    },
    {
      "cell_type": "code",
      "source": [
        "src = list()\n",
        "dest = list()"
      ],
      "metadata": {
        "id": "Pjb2jEw1IjJ9"
      },
      "execution_count": 92,
      "outputs": []
    },
    {
      "cell_type": "code",
      "source": [
        "for index, row in df.iterrows():\n",
        "  author = row[\"Name\"]\n",
        "  coauthor_list = row[\"Co-authors’ names (Google Scholar)\"].split(', ')\n",
        "\n",
        "  for coauthor in coauthor_list:\n",
        "    src.append(author)\n",
        "    dest.append(coauthor)"
      ],
      "metadata": {
        "id": "Z_qRwGfcFQE7"
      },
      "execution_count": 93,
      "outputs": []
    },
    {
      "cell_type": "code",
      "source": [
        "len(dest)"
      ],
      "metadata": {
        "colab": {
          "base_uri": "https://localhost:8080/"
        },
        "id": "ncPnqXtsLOkk",
        "outputId": "46313676-66a4-4b0f-f234-b459a23ce3ad"
      },
      "execution_count": 94,
      "outputs": [
        {
          "output_type": "execute_result",
          "data": {
            "text/plain": [
              "12635"
            ]
          },
          "metadata": {},
          "execution_count": 94
        }
      ]
    },
    {
      "cell_type": "code",
      "source": [
        "edges = pd.DataFrame({'Source':src, 'Target':dest})"
      ],
      "metadata": {
        "id": "-ZSFvsYTLwII"
      },
      "execution_count": 95,
      "outputs": []
    },
    {
      "cell_type": "code",
      "source": [
        "G = nx.from_pandas_edgelist(edges, source=\"Source\", target=\"Target\", create_using=nx.DiGraph())"
      ],
      "metadata": {
        "id": "Ng_yXlCKLzt6"
      },
      "execution_count": 96,
      "outputs": []
    },
    {
      "cell_type": "code",
      "source": [
        "G.number_of_nodes()"
      ],
      "metadata": {
        "colab": {
          "base_uri": "https://localhost:8080/"
        },
        "id": "GB2tldW9L6Ck",
        "outputId": "1ab772d1-73dd-4d07-e7fe-16cb2f920e86"
      },
      "execution_count": 97,
      "outputs": [
        {
          "output_type": "execute_result",
          "data": {
            "text/plain": [
              "9315"
            ]
          },
          "metadata": {},
          "execution_count": 97
        }
      ]
    },
    {
      "cell_type": "code",
      "source": [
        "G.number_of_edges()"
      ],
      "metadata": {
        "colab": {
          "base_uri": "https://localhost:8080/"
        },
        "id": "fydfZ2dSL-uy",
        "outputId": "8ba476a4-4b1c-40fd-f1a0-7282548b5ce0"
      },
      "execution_count": 98,
      "outputs": [
        {
          "output_type": "execute_result",
          "data": {
            "text/plain": [
              "12622"
            ]
          },
          "metadata": {},
          "execution_count": 98
        }
      ]
    },
    {
      "cell_type": "code",
      "source": [
        "nx.density(G)"
      ],
      "metadata": {
        "colab": {
          "base_uri": "https://localhost:8080/"
        },
        "id": "c1OZmH5iMDIh",
        "outputId": "1643f409-0599-405d-80d1-1ee77d6d0282"
      },
      "execution_count": 99,
      "outputs": [
        {
          "output_type": "execute_result",
          "data": {
            "text/plain": [
              "0.00014548193975765997"
            ]
          },
          "metadata": {},
          "execution_count": 99
        }
      ]
    },
    {
      "cell_type": "code",
      "source": [
        "node_attrs = df[[\"Name\", \"Gender\", \"Ethnicity\"]]"
      ],
      "metadata": {
        "id": "Xm6hzADbMmTF"
      },
      "execution_count": 100,
      "outputs": []
    },
    {
      "cell_type": "code",
      "source": [
        "names = node_attrs[\"Name\"].to_list()\n",
        "genders = node_attrs[\"Gender\"].to_list()\n",
        "ethnicities = node_attrs[\"Ethnicity\"].to_list()"
      ],
      "metadata": {
        "id": "3wVIOtgEU5tt"
      },
      "execution_count": 101,
      "outputs": []
    },
    {
      "cell_type": "code",
      "source": [
        "for index, row in df.iterrows():\n",
        "  coauthor_list = row[\"Co-authors’ names (Google Scholar)\"].split(', ')\n",
        "  gender_list = row[\"Co-authors’ genders (Google Scholar)\"].split(', ')\n",
        "  ethnicity_list = row[\"Co-authors’ ethnicity (Google Scholar)\"].split(', ')\n",
        "\n",
        "  names.extend(coauthor_list)\n",
        "  genders.extend(gender_list)\n",
        "  ethnicities.extend(ethnicity_list)"
      ],
      "metadata": {
        "id": "8jUfb5_OQE5T"
      },
      "execution_count": 102,
      "outputs": []
    },
    {
      "cell_type": "code",
      "source": [
        "len(names)"
      ],
      "metadata": {
        "colab": {
          "base_uri": "https://localhost:8080/"
        },
        "id": "JJoyqqBZV45G",
        "outputId": "6aa21b41-1e3f-474b-849d-fa9797f5a2c2"
      },
      "execution_count": 103,
      "outputs": [
        {
          "output_type": "execute_result",
          "data": {
            "text/plain": [
              "13021"
            ]
          },
          "metadata": {},
          "execution_count": 103
        }
      ]
    },
    {
      "cell_type": "code",
      "source": [
        "len(genders)"
      ],
      "metadata": {
        "colab": {
          "base_uri": "https://localhost:8080/"
        },
        "id": "6CUqI2tIV8iB",
        "outputId": "182dbbb0-4f56-416f-c5bc-383adc9bf26f"
      },
      "execution_count": 104,
      "outputs": [
        {
          "output_type": "execute_result",
          "data": {
            "text/plain": [
              "13021"
            ]
          },
          "metadata": {},
          "execution_count": 104
        }
      ]
    },
    {
      "cell_type": "code",
      "source": [
        "len(ethnicities)"
      ],
      "metadata": {
        "colab": {
          "base_uri": "https://localhost:8080/"
        },
        "id": "fPbp9NxdV_Vf",
        "outputId": "7019382f-32ef-4bb3-cfaf-682d4ca74f5e"
      },
      "execution_count": 105,
      "outputs": [
        {
          "output_type": "execute_result",
          "data": {
            "text/plain": [
              "13021"
            ]
          },
          "metadata": {},
          "execution_count": 105
        }
      ]
    },
    {
      "cell_type": "code",
      "source": [
        "attrs = pd.DataFrame({'Name':names, 'Gender':genders, 'Ethnicity':ethnicities})"
      ],
      "metadata": {
        "id": "7SBwfyV0WCWW"
      },
      "execution_count": 106,
      "outputs": []
    },
    {
      "cell_type": "code",
      "source": [
        "attrs = attrs.drop_duplicates(subset='Name', keep=\"first\")"
      ],
      "metadata": {
        "id": "Q6uVH1gUWVl0"
      },
      "execution_count": 107,
      "outputs": []
    },
    {
      "cell_type": "code",
      "source": [
        "node_attr = attrs.set_index('Name').to_dict('index')\n",
        "nx.set_node_attributes(G, node_attr)"
      ],
      "metadata": {
        "id": "JEj1exb0XAFQ"
      },
      "execution_count": 108,
      "outputs": []
    },
    {
      "cell_type": "code",
      "source": [
        "nx.write_graphml(G, \"googleScholarNet.graphml\")"
      ],
      "metadata": {
        "id": "GfKwXzz2XKUv"
      },
      "execution_count": 109,
      "outputs": []
    },
    {
      "cell_type": "code",
      "source": [
        "!mv \"/content/googleScholarNet.graphml\" \"/content/drive/MyDrive/Authorship Bias Paper/Data/googleScholarNet.graphml\""
      ],
      "metadata": {
        "id": "XUdWjguspxdZ"
      },
      "execution_count": 110,
      "outputs": []
    }
  ]
}