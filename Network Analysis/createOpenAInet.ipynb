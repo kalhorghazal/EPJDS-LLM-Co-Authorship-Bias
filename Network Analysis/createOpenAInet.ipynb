{
  "nbformat": 4,
  "nbformat_minor": 0,
  "metadata": {
    "colab": {
      "provenance": []
    },
    "kernelspec": {
      "name": "python3",
      "display_name": "Python 3"
    },
    "language_info": {
      "name": "python"
    }
  },
  "cells": [
    {
      "cell_type": "code",
      "execution_count": 35,
      "metadata": {
        "id": "7zC1j9pdDhX7"
      },
      "outputs": [],
      "source": [
        "!cp \"/content/drive/MyDrive/Authorship Bias Paper/Data/finalData.csv\" ."
      ]
    },
    {
      "cell_type": "code",
      "source": [
        "import pandas as pd\n",
        "import numpy as np\n",
        "import networkx as nx"
      ],
      "metadata": {
        "id": "ooH7O2S3D-Yz"
      },
      "execution_count": 36,
      "outputs": []
    },
    {
      "cell_type": "code",
      "source": [
        "df = pd.read_csv(\"finalData.csv\")\n",
        "df.columns"
      ],
      "metadata": {
        "colab": {
          "base_uri": "https://localhost:8080/"
        },
        "id": "Ub8zr9opEOOo",
        "outputId": "75758e28-0f89-4386-8336-e31295f4f9ad"
      },
      "execution_count": 37,
      "outputs": [
        {
          "output_type": "execute_result",
          "data": {
            "text/plain": [
              "Index(['Name', 'Google Scholar ID', 'Gender', 'Ethnicity', 'Affiliation',\n",
              "       'Country', 'h-index', 'Citation count',\n",
              "       'Co-authors’ names (Google Scholar)',\n",
              "       'Co-authors’ genders (Google Scholar)',\n",
              "       'Co-authors’ ethnicity (Google Scholar)', 'Co-authors’ names (OpenAI)',\n",
              "       'Co-authors’ genders (OpenAI)', 'Co-authors’ ethnicity (OpenAI)'],\n",
              "      dtype='object')"
            ]
          },
          "metadata": {},
          "execution_count": 37
        }
      ]
    },
    {
      "cell_type": "code",
      "source": [
        "src = list()\n",
        "dest = list()"
      ],
      "metadata": {
        "id": "Pjb2jEw1IjJ9"
      },
      "execution_count": 38,
      "outputs": []
    },
    {
      "cell_type": "code",
      "source": [
        "for index, row in df.iterrows():\n",
        "  author = row[\"Name\"]\n",
        "  coauthor_list = row[\"Co-authors’ names (OpenAI)\"].split(\", \")\n",
        "\n",
        "  for coauthor in coauthor_list:\n",
        "    src.append(author)\n",
        "    dest.append(coauthor)"
      ],
      "metadata": {
        "id": "m74QIXt0bfxQ"
      },
      "execution_count": 39,
      "outputs": []
    },
    {
      "cell_type": "code",
      "source": [
        "edges = pd.DataFrame({'Source':src, 'Target':dest})"
      ],
      "metadata": {
        "id": "-ZSFvsYTLwII"
      },
      "execution_count": 40,
      "outputs": []
    },
    {
      "cell_type": "code",
      "source": [
        "len(edges)"
      ],
      "metadata": {
        "colab": {
          "base_uri": "https://localhost:8080/"
        },
        "id": "41MKiX7qVpuD",
        "outputId": "8dbf2d56-ec73-4f73-9776-dc1ecf32da9e"
      },
      "execution_count": 41,
      "outputs": [
        {
          "output_type": "execute_result",
          "data": {
            "text/plain": [
              "5543"
            ]
          },
          "metadata": {},
          "execution_count": 41
        }
      ]
    },
    {
      "cell_type": "code",
      "source": [
        "G = nx.from_pandas_edgelist(edges, source=\"Source\", target=\"Target\", create_using=nx.DiGraph())"
      ],
      "metadata": {
        "id": "Ng_yXlCKLzt6"
      },
      "execution_count": 42,
      "outputs": []
    },
    {
      "cell_type": "code",
      "source": [
        "G.number_of_nodes()"
      ],
      "metadata": {
        "colab": {
          "base_uri": "https://localhost:8080/"
        },
        "id": "GB2tldW9L6Ck",
        "outputId": "25133a1d-8c0c-4071-d271-996e9cb83672"
      },
      "execution_count": 43,
      "outputs": [
        {
          "output_type": "execute_result",
          "data": {
            "text/plain": [
              "4672"
            ]
          },
          "metadata": {},
          "execution_count": 43
        }
      ]
    },
    {
      "cell_type": "code",
      "source": [
        "G.number_of_edges()"
      ],
      "metadata": {
        "colab": {
          "base_uri": "https://localhost:8080/"
        },
        "id": "fydfZ2dSL-uy",
        "outputId": "9166cf10-a377-4092-b10c-e9d06e8a16fe"
      },
      "execution_count": 44,
      "outputs": [
        {
          "output_type": "execute_result",
          "data": {
            "text/plain": [
              "5543"
            ]
          },
          "metadata": {},
          "execution_count": 44
        }
      ]
    },
    {
      "cell_type": "code",
      "source": [
        "nx.density(G)"
      ],
      "metadata": {
        "colab": {
          "base_uri": "https://localhost:8080/"
        },
        "id": "c1OZmH5iMDIh",
        "outputId": "438e0f09-7469-44f5-acaa-aa7ce7035a92"
      },
      "execution_count": 45,
      "outputs": [
        {
          "output_type": "execute_result",
          "data": {
            "text/plain": [
              "0.00025399909966185996"
            ]
          },
          "metadata": {},
          "execution_count": 45
        }
      ]
    },
    {
      "cell_type": "code",
      "source": [
        "node_attrs = df[[\"Name\", \"Gender\", \"Ethnicity\"]]"
      ],
      "metadata": {
        "id": "Xm6hzADbMmTF"
      },
      "execution_count": 46,
      "outputs": []
    },
    {
      "cell_type": "code",
      "source": [
        "names = node_attrs[\"Name\"].to_list()\n",
        "genders = node_attrs[\"Gender\"].to_list()\n",
        "ethnicities = node_attrs[\"Ethnicity\"].to_list()"
      ],
      "metadata": {
        "id": "3wVIOtgEU5tt"
      },
      "execution_count": 47,
      "outputs": []
    },
    {
      "cell_type": "code",
      "source": [
        "for index, row in df.iterrows():\n",
        "  coauthor_list = row[\"Co-authors’ names (OpenAI)\"].split(', ')\n",
        "  gender_list = row[\"Co-authors’ genders (OpenAI)\"].split(', ')\n",
        "  ethnicity_list = row[\"Co-authors’ ethnicity (OpenAI)\"].split(', ')\n",
        "\n",
        "  names.extend(coauthor_list)\n",
        "  genders.extend(gender_list)\n",
        "  ethnicities.extend(ethnicity_list)"
      ],
      "metadata": {
        "id": "8jUfb5_OQE5T"
      },
      "execution_count": 48,
      "outputs": []
    },
    {
      "cell_type": "code",
      "source": [
        "len(names)"
      ],
      "metadata": {
        "colab": {
          "base_uri": "https://localhost:8080/"
        },
        "id": "JJoyqqBZV45G",
        "outputId": "48fb7ff4-5064-494f-ca75-7b0bc4bbdcc2"
      },
      "execution_count": 49,
      "outputs": [
        {
          "output_type": "execute_result",
          "data": {
            "text/plain": [
              "5929"
            ]
          },
          "metadata": {},
          "execution_count": 49
        }
      ]
    },
    {
      "cell_type": "code",
      "source": [
        "len(genders)"
      ],
      "metadata": {
        "colab": {
          "base_uri": "https://localhost:8080/"
        },
        "id": "6CUqI2tIV8iB",
        "outputId": "a7f27f49-261c-49e9-dffd-a3daea04dceb"
      },
      "execution_count": 50,
      "outputs": [
        {
          "output_type": "execute_result",
          "data": {
            "text/plain": [
              "5929"
            ]
          },
          "metadata": {},
          "execution_count": 50
        }
      ]
    },
    {
      "cell_type": "code",
      "source": [
        "len(ethnicities)"
      ],
      "metadata": {
        "colab": {
          "base_uri": "https://localhost:8080/"
        },
        "id": "fPbp9NxdV_Vf",
        "outputId": "372788b7-ec65-4927-9983-cf6ace2041db"
      },
      "execution_count": 51,
      "outputs": [
        {
          "output_type": "execute_result",
          "data": {
            "text/plain": [
              "5929"
            ]
          },
          "metadata": {},
          "execution_count": 51
        }
      ]
    },
    {
      "cell_type": "code",
      "source": [
        "attrs = pd.DataFrame({'Name':names, 'Gender':genders, 'Ethnicity':ethnicities})"
      ],
      "metadata": {
        "id": "7SBwfyV0WCWW"
      },
      "execution_count": 52,
      "outputs": []
    },
    {
      "cell_type": "code",
      "source": [
        "attrs = attrs.drop_duplicates(subset='Name', keep=\"first\")"
      ],
      "metadata": {
        "id": "Q6uVH1gUWVl0"
      },
      "execution_count": 53,
      "outputs": []
    },
    {
      "cell_type": "code",
      "source": [
        "node_attr = attrs.set_index('Name').to_dict('index')\n",
        "nx.set_node_attributes(G, node_attr)"
      ],
      "metadata": {
        "id": "JEj1exb0XAFQ"
      },
      "execution_count": 54,
      "outputs": []
    },
    {
      "cell_type": "code",
      "source": [
        "nx.write_graphml(G, \"openAInet.graphml\")"
      ],
      "metadata": {
        "id": "GfKwXzz2XKUv"
      },
      "execution_count": 55,
      "outputs": []
    },
    {
      "cell_type": "code",
      "source": [
        "!mv \"/content/openAInet.graphml\" \"/content/drive/MyDrive/Authorship Bias Paper/Data/openAInet.graphml\""
      ],
      "metadata": {
        "id": "pVyOY7clqp1S"
      },
      "execution_count": 56,
      "outputs": []
    }
  ]
}