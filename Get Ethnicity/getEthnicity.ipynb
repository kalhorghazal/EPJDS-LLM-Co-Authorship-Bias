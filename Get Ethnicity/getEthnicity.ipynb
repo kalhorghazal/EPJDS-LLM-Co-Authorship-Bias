{
  "nbformat": 4,
  "nbformat_minor": 0,
  "metadata": {
    "colab": {
      "provenance": []
    },
    "kernelspec": {
      "name": "ir",
      "display_name": "R"
    },
    "language_info": {
      "name": "R"
    }
  },
  "cells": [
    {
      "cell_type": "markdown",
      "source": [
        "# Import Libraries"
      ],
      "metadata": {
        "id": "sbBLlEo2m-YL"
      }
    },
    {
      "cell_type": "code",
      "source": [
        "install.packages(\"openxlsx\")\n",
        "\n",
        "library(readxl)\n",
        "library(openxlsx)"
      ],
      "metadata": {
        "colab": {
          "base_uri": "https://localhost:8080/"
        },
        "id": "ZoKNUdrPxSC6",
        "outputId": "5b6f997e-1814-4fbc-f73b-bb69528008f3"
      },
      "execution_count": null,
      "outputs": [
        {
          "output_type": "stream",
          "name": "stderr",
          "text": [
            "Installing package into ‘/usr/local/lib/R/site-library’\n",
            "(as ‘lib’ is unspecified)\n",
            "\n"
          ]
        }
      ]
    },
    {
      "cell_type": "code",
      "source": [
        "if (!requireNamespace(\"devtools\", quietly = TRUE)) {\n",
        "  install.packages(\"devtools\")\n",
        "}\n",
        "\n",
        "devtools::install_github(\"fangzhou-xie/rethnicity\")\n",
        "\n",
        "library(rethnicity)"
      ],
      "metadata": {
        "colab": {
          "base_uri": "https://localhost:8080/"
        },
        "id": "DUmHENgvwah7",
        "outputId": "66c55765-cd76-4baf-ec03-27c229fa0c4b"
      },
      "execution_count": null,
      "outputs": [
        {
          "output_type": "stream",
          "name": "stderr",
          "text": [
            "Downloading GitHub repo fangzhou-xie/rethnicity@HEAD\n",
            "\n"
          ]
        },
        {
          "output_type": "stream",
          "name": "stdout",
          "text": [
            "Rcpp       (NA -> 1.0.12   ) [CRAN]\n",
            "RcppThread (NA -> 2.1.7    ) [CRAN]\n",
            "RcppEigen  (NA -> 0.3.4.0.0) [CRAN]\n"
          ]
        },
        {
          "output_type": "stream",
          "name": "stderr",
          "text": [
            "Installing 3 packages: Rcpp, RcppThread, RcppEigen\n",
            "\n",
            "Installing packages into ‘/usr/local/lib/R/site-library’\n",
            "(as ‘lib’ is unspecified)\n",
            "\n"
          ]
        },
        {
          "output_type": "stream",
          "name": "stdout",
          "text": [
            "\u001b[36m──\u001b[39m \u001b[36mR CMD build\u001b[39m \u001b[36m─────────────────────────────────────────────────────────────────\u001b[39m\n",
            "* checking for file ‘/tmp/RtmppEilhu/remotescf2bfa0c97/fangzhou-xie-rethnicity-a513ca5/DESCRIPTION’ ... OK\n",
            "* preparing ‘rethnicity’:\n",
            "* checking DESCRIPTION meta-information ... OK\n",
            "* cleaning src\n",
            "* checking for LF line-endings in source and make files and shell scripts\n",
            "* checking for empty or unneeded directories\n",
            "* building ‘rethnicity_0.2.4.tar.gz’\n",
            "\n"
          ]
        },
        {
          "output_type": "stream",
          "name": "stderr",
          "text": [
            "Installing package into ‘/usr/local/lib/R/site-library’\n",
            "(as ‘lib’ is unspecified)\n",
            "\n",
            "══ WARNING! ════════════════════════════════════════════════════════════════════\n",
            "\n",
            "The method provided by this package has its limitations and anyone must use them cautiously and responsibly. You should also agree that you only intend to use the method for academic research purpose and not for commercial use. You would also agree NOT to discriminate anyone based on race or color or any characteristic, with the information provided by this package. Please refer to the documentation for details: https://fangzhou-xie.github.io/rethnicity/index.html\n",
            "\n",
            "════════════════════════════════════════════════════════════════════════════════\n",
            "\n"
          ]
        }
      ]
    },
    {
      "cell_type": "code",
      "execution_count": null,
      "metadata": {
        "id": "E3u8xMCIoSFL"
      },
      "outputs": [],
      "source": [
        "data <- read.csv(\"data.csv\")"
      ]
    },
    {
      "cell_type": "markdown",
      "source": [
        "# Detect Ethnicities"
      ],
      "metadata": {
        "id": "4pyrSMl9nG5I"
      }
    },
    {
      "cell_type": "code",
      "source": [
        "predict_multiple_ethnicities <- function(names_lists) {\n",
        "  results <- list()\n",
        "\n",
        "  for (names in names_lists) {\n",
        "\n",
        "    names <- na.omit(names)\n",
        "\n",
        "    if (length(names) == 0) {\n",
        "      results[[length(results) + 1]] <- character(0)\n",
        "      next\n",
        "    }\n",
        "\n",
        "\n",
        "    split_names <- function(full_name) {\n",
        "      name_parts <- unlist(strsplit(full_name, \" \"))\n",
        "      if (length(name_parts) >= 2) {\n",
        "        first_name <- name_parts[1]\n",
        "        last_name <- paste(name_parts[-1], collapse = \" \")\n",
        "      } else {\n",
        "        first_name <- full_name\n",
        "        last_name <- \"\"\n",
        "      }\n",
        "      return(c(first_name, last_name))\n",
        "    }\n",
        "\n",
        "\n",
        "    names_split <- t(sapply(names, split_names))\n",
        "    firstnames <- names_split[, 1]\n",
        "    lastnames <- names_split[, 2]\n",
        "\n",
        "\n",
        "    no_last_name_indices <- which(lastnames == \"\")\n",
        "    if (length(no_last_name_indices) > 0) {\n",
        "      lastnames[no_last_name_indices] <- \"Unknown\"\n",
        "    }\n",
        "\n",
        "    # Predict ethnicity using the rethnicity package\n",
        "    predictions <- predict_ethnicity(firstnames, lastnames, method = \"fullname\")\n",
        "\n",
        "    # Extract predicted ethnicities and combine into a single vector\n",
        "    ethnicities_combined <- sapply(predictions$race, function(eth) paste(eth, collapse = \", \"))\n",
        "\n",
        "    results[[length(results) + 1]] <- ethnicities_combined\n",
        "  }\n",
        "\n",
        "  return(results)\n",
        "}"
      ],
      "metadata": {
        "id": "UxA71XwRws_j"
      },
      "execution_count": null,
      "outputs": []
    },
    {
      "cell_type": "markdown",
      "source": [
        "## Get Authors' Ethnicity"
      ],
      "metadata": {
        "id": "sn9o6oNQnaE0"
      }
    },
    {
      "cell_type": "code",
      "source": [
        "authorsNames <- strsplit(data[[\"Name\"]], \", \")\n",
        "authorsNames <- lapply(authorsNames, function(names) trimws(names))"
      ],
      "metadata": {
        "id": "aSA4S2fFw4Wa"
      },
      "execution_count": null,
      "outputs": []
    },
    {
      "cell_type": "code",
      "source": [
        "authorsEthnicities <- predict_multiple_ethnicities(authorsNames)\n",
        "data$'Ethnicity' <- sapply(authorsEthnicities, function(eth) paste(eth, collapse = \", \"))"
      ],
      "metadata": {
        "id": "3095B-GtxCNc"
      },
      "execution_count": null,
      "outputs": []
    },
    {
      "cell_type": "markdown",
      "source": [
        "## Get Google Scholar Co-Authors' Ethnicity"
      ],
      "metadata": {
        "id": "g86-3CvnnnsK"
      }
    },
    {
      "cell_type": "code",
      "source": [
        "scholarCoauthorsNames <- strsplit(data[[\"Co-authors’ names (Google Scholar)\"]], \", \")\n",
        "scholarCoauthorsNames <- lapply(scholarCoauthorsNames, function(names) trimws(names))"
      ],
      "metadata": {
        "id": "EFtFYOiDnqj2"
      },
      "execution_count": null,
      "outputs": []
    },
    {
      "cell_type": "code",
      "source": [
        "scholarCoauthorsEthnicities <- predict_multiple_ethnicities(scholarCoauthorsNames)\n",
        "data$'Co-authors’ ethnicity (Google Scholar)' <- sapply(scholarCoauthorsEthnicities, function(eth) paste(eth, collapse = \", \"))"
      ],
      "metadata": {
        "id": "zFDAP5z_oZX-"
      },
      "execution_count": null,
      "outputs": []
    },
    {
      "cell_type": "markdown",
      "source": [
        "## Get OpenAI Co-Authors' Ethnicity"
      ],
      "metadata": {
        "id": "DaZasuTcoxGY"
      }
    },
    {
      "cell_type": "code",
      "source": [
        "openAIcoauthorsNames <- strsplit(data[[\"Co-authors’ names (OpenAI)\"]], \", \")\n",
        "openAIcoauthorsNames <- lapply(openAIcoauthorsNames, function(names) trimws(names))"
      ],
      "metadata": {
        "id": "fAkPinu4oy2X"
      },
      "execution_count": null,
      "outputs": []
    },
    {
      "cell_type": "code",
      "source": [
        "openAIcoauthorsEthnicities <- predict_multiple_ethnicities(openAIcoauthorsNames)\n",
        "data$'Co-authors’ ethnicity (OpenAI)' <- sapply(openAIcoauthorsEthnicities, function(eth) paste(eth, collapse = \", \"))"
      ],
      "metadata": {
        "id": "J7HTqP-7o6nh"
      },
      "execution_count": null,
      "outputs": []
    },
    {
      "cell_type": "code",
      "source": [
        "write.xlsx(data, \"ethnicityAddedData.xlsx\", sheetName = \"Sheet1\", colNames = TRUE, rowNames = FALSE, append = TRUE)"
      ],
      "metadata": {
        "id": "OKjiapPIyEsS"
      },
      "execution_count": null,
      "outputs": []
    }
  ]
}