{
  "nbformat": 4,
  "nbformat_minor": 0,
  "metadata": {
    "colab": {
      "provenance": []
    },
    "kernelspec": {
      "name": "python3",
      "display_name": "Python 3"
    },
    "language_info": {
      "name": "python"
    }
  },
  "cells": [
    {
      "cell_type": "code",
      "execution_count": null,
      "metadata": {
        "id": "FslecQAiUvb4"
      },
      "outputs": [],
      "source": [
        "!cp \"/content/drive/MyDrive/Authorship Bias Paper/Data/data.csv\" ."
      ]
    },
    {
      "cell_type": "markdown",
      "source": [
        "# Import Libraries"
      ],
      "metadata": {
        "id": "6Z9X7CtUk72e"
      }
    },
    {
      "cell_type": "code",
      "source": [
        "!pip install requests"
      ],
      "metadata": {
        "colab": {
          "base_uri": "https://localhost:8080/"
        },
        "id": "KG9HBZLgVMkB",
        "outputId": "7e7d0ef9-a0b0-4a3e-c180-5755752991c2"
      },
      "execution_count": null,
      "outputs": [
        {
          "output_type": "stream",
          "name": "stdout",
          "text": [
            "Requirement already satisfied: requests in /usr/local/lib/python3.10/dist-packages (2.31.0)\n",
            "Requirement already satisfied: charset-normalizer<4,>=2 in /usr/local/lib/python3.10/dist-packages (from requests) (3.3.2)\n",
            "Requirement already satisfied: idna<4,>=2.5 in /usr/local/lib/python3.10/dist-packages (from requests) (3.6)\n",
            "Requirement already satisfied: urllib3<3,>=1.21.1 in /usr/local/lib/python3.10/dist-packages (from requests) (2.0.7)\n",
            "Requirement already satisfied: certifi>=2017.4.17 in /usr/local/lib/python3.10/dist-packages (from requests) (2024.2.2)\n"
          ]
        }
      ]
    },
    {
      "cell_type": "code",
      "source": [
        "import pandas as pd\n",
        "import requests"
      ],
      "metadata": {
        "id": "pfHp_naCVQP-"
      },
      "execution_count": null,
      "outputs": []
    },
    {
      "cell_type": "code",
      "source": [
        "df = pd.read_csv(\"data.csv\")"
      ],
      "metadata": {
        "id": "NvjtLROYZ8KU"
      },
      "execution_count": null,
      "outputs": []
    },
    {
      "cell_type": "markdown",
      "source": [
        "# Detect Genders"
      ],
      "metadata": {
        "id": "kktyoNlXlMk0"
      }
    },
    {
      "cell_type": "code",
      "source": [
        "def get_gender_from_namsor(names):\n",
        "    headers = {\n",
        "        'X-API-KEY': API_KEY,\n",
        "        'Accept': 'application/json',\n",
        "        'Content-Type': 'application/json'\n",
        "    }\n",
        "\n",
        "    personal_names = [{'firstName': name.strip()} for name in names]\n",
        "\n",
        "    payload = {'personalNames': personal_names}\n",
        "\n",
        "    response = requests.post(API_URL, json=payload, headers=headers)\n",
        "    if response.status_code == 200:\n",
        "        result = response.json()\n",
        "        return result['personalNames']\n",
        "    else:\n",
        "        return []\n",
        "\n",
        "def getGender(data, colName, newColName):\n",
        "  gender_data = []\n",
        "  for names in data[colName]:\n",
        "      if pd.notna(names):  # Check if names is not NaN\n",
        "          name_parts = [name.strip() for name in names.split(', ')]\n",
        "          genders = get_gender_from_namsor(name_parts)\n",
        "          gender_names = [gender_info['likelyGender'] for gender_info in genders]\n",
        "          gender_data.append(', '.join(gender_names))\n",
        "      else:\n",
        "          gender_data.append('')  # Append an empty string for NaN values\n",
        "\n",
        "  data[newColName] = gender_data"
      ],
      "metadata": {
        "id": "HlTHZAufVWDa"
      },
      "execution_count": null,
      "outputs": []
    },
    {
      "cell_type": "markdown",
      "source": [
        "## Set API values"
      ],
      "metadata": {
        "id": "wjrRODw1lF_w"
      }
    },
    {
      "cell_type": "code",
      "source": [
        "API_KEY = 'Your API Key'\n",
        "API_URL = 'https://v2.namsor.com/NamSorAPIv2/api2/json/genderBatch'"
      ],
      "metadata": {
        "id": "tduiQHURZ4yi"
      },
      "execution_count": null,
      "outputs": []
    },
    {
      "cell_type": "markdown",
      "source": [
        "## Get Authors' Genders"
      ],
      "metadata": {
        "id": "9eV40-bAlWXj"
      }
    },
    {
      "cell_type": "code",
      "source": [
        "df[\"Gender\"] = \"\"\n",
        "getGender(df, 'Name','Gender')"
      ],
      "metadata": {
        "id": "xYL-n84Zkkdc"
      },
      "execution_count": null,
      "outputs": []
    },
    {
      "cell_type": "markdown",
      "source": [
        "## Get Google Scholar Co-Authors' Genders"
      ],
      "metadata": {
        "id": "eHvmpxzUlcp9"
      }
    },
    {
      "cell_type": "code",
      "source": [
        "df[\"Co-authors’ genders (Google Scholar)\"] = \"\"\n",
        "getGender(df, 'Co-authors’ names (Google Scholar)','Co-authors’ genders (Google Scholar)')"
      ],
      "metadata": {
        "id": "r7V52DNckX5G"
      },
      "execution_count": null,
      "outputs": []
    },
    {
      "cell_type": "markdown",
      "source": [
        "## Get OpenAI Co-Authors' Genders"
      ],
      "metadata": {
        "id": "Qlu_jk73lhqn"
      }
    },
    {
      "cell_type": "code",
      "source": [
        "df[\"Co-authors’ genders (OpenAI)\"] = \"\"\n",
        "getGender(df, 'Co-authors’ names (OpenAI)','Co-authors’ genders (OpenAI)')"
      ],
      "metadata": {
        "id": "jru1HWcqZ64u"
      },
      "execution_count": null,
      "outputs": []
    },
    {
      "cell_type": "code",
      "source": [
        "df.to_csv(\"genderAddedData.csv\", index=False)"
      ],
      "metadata": {
        "id": "gPQqgR1ggyip"
      },
      "execution_count": null,
      "outputs": []
    }
  ]
}