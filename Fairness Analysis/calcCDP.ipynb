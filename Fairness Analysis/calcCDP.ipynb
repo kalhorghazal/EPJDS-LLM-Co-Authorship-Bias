{
  "nbformat": 4,
  "nbformat_minor": 0,
  "metadata": {
    "colab": {
      "provenance": []
    },
    "kernelspec": {
      "name": "python3",
      "display_name": "Python 3"
    },
    "language_info": {
      "name": "python"
    }
  },
  "cells": [
    {
      "cell_type": "code",
      "execution_count": 6,
      "metadata": {
        "id": "JKdK3CNAvNxs"
      },
      "outputs": [],
      "source": [
        "!cp \"/content/drive/MyDrive/Authorship Bias Paper/Data/matchData.csv\" ."
      ]
    },
    {
      "cell_type": "code",
      "source": [
        "import pandas as pd\n",
        "import numpy as np\n",
        "from scipy import stats"
      ],
      "metadata": {
        "id": "xfqqJsm6yHp5"
      },
      "execution_count": 7,
      "outputs": []
    },
    {
      "cell_type": "code",
      "source": [
        "df = pd.read_csv(\"matchData.csv\")\n",
        "df = df[df[\"h-index\"] < 15]\n",
        "df.columns"
      ],
      "metadata": {
        "colab": {
          "base_uri": "https://localhost:8080/"
        },
        "id": "ToEom3HLyLRC",
        "outputId": "74ba2afe-50e2-4d42-dc6a-1dc96728bcef"
      },
      "execution_count": 8,
      "outputs": [
        {
          "output_type": "execute_result",
          "data": {
            "text/plain": [
              "Index(['Name', 'Google Scholar ID', 'Gender', 'Ethnicity', 'Affiliation',\n",
              "       'Country', 'h-index', 'Citation count',\n",
              "       'Co-authors’ names (Google Scholar)',\n",
              "       'Co-authors’ genders (Google Scholar)',\n",
              "       'Co-authors’ ethnicity (Google Scholar)', 'Co-authors’ names (OpenAI)',\n",
              "       'Co-authors’ genders (OpenAI)', 'Co-authors’ ethnicity (OpenAI)',\n",
              "       'Match Count 50%', 'Match Count 60%', 'Match Count 70%',\n",
              "       'Match Count 80%'],\n",
              "      dtype='object')"
            ]
          },
          "metadata": {},
          "execution_count": 8
        }
      ]
    },
    {
      "cell_type": "code",
      "source": [
        "df[\"Recall 50%\"] = 0\n",
        "df[\"Recall 60%\"] = 0\n",
        "df[\"Recall 70%\"] = 0\n",
        "df[\"Recall 80%\"] = 0"
      ],
      "metadata": {
        "id": "CiOQbrxtybyp"
      },
      "execution_count": 9,
      "outputs": []
    },
    {
      "cell_type": "code",
      "source": [
        "for index, row in df.iterrows():\n",
        "  df.at[index, \"Recall 50%\"] = row[\"Match Count 50%\"] / len(row[\"Co-authors’ names (Google Scholar)\"].split(\", \"))\n",
        "  df.at[index, \"Recall 60%\"] = row[\"Match Count 60%\"] / len(row[\"Co-authors’ names (Google Scholar)\"].split(\", \"))\n",
        "  df.at[index, \"Recall 70%\"] = row[\"Match Count 70%\"] / len(row[\"Co-authors’ names (Google Scholar)\"].split(\", \"))\n",
        "  df.at[index, \"Recall 80%\"] = row[\"Match Count 80%\"] / len(row[\"Co-authors’ names (Google Scholar)\"].split(\", \"))"
      ],
      "metadata": {
        "id": "KqZMgPK-ynys"
      },
      "execution_count": 10,
      "outputs": []
    },
    {
      "cell_type": "markdown",
      "source": [
        "# Gender Conditional Demographic Parity"
      ],
      "metadata": {
        "id": "EeJY2kfw5KlA"
      }
    },
    {
      "cell_type": "code",
      "source": [
        "print(\"Gender CDP 50% : \")\n",
        "df[df[\"Gender\"] == \"Female\"][\"Recall 50%\"].mean() / df[df[\"Gender\"] == \"Male\"][\"Recall 50%\"].mean()"
      ],
      "metadata": {
        "colab": {
          "base_uri": "https://localhost:8080/"
        },
        "id": "i_-odFgTziE7",
        "outputId": "0086d495-c5f5-4d23-f3e7-2530907a00bf"
      },
      "execution_count": 11,
      "outputs": [
        {
          "output_type": "stream",
          "name": "stdout",
          "text": [
            "Gender CDP 50% : \n"
          ]
        },
        {
          "output_type": "execute_result",
          "data": {
            "text/plain": [
              "0.6775546929781464"
            ]
          },
          "metadata": {},
          "execution_count": 11
        }
      ]
    },
    {
      "cell_type": "code",
      "source": [
        "stats.ttest_ind(df[df[\"Gender\"] == \"Female\"][\"Recall 50%\"].to_list(), df[df[\"Gender\"] == \"Male\"][\"Recall 50%\"].to_list())"
      ],
      "metadata": {
        "colab": {
          "base_uri": "https://localhost:8080/"
        },
        "id": "Efh3xKh326WD",
        "outputId": "545045a9-b3ed-46e3-aa19-cd647dee8b05"
      },
      "execution_count": 12,
      "outputs": [
        {
          "output_type": "execute_result",
          "data": {
            "text/plain": [
              "TtestResult(statistic=-1.895864724712629, pvalue=0.06108286351196174, df=93.0)"
            ]
          },
          "metadata": {},
          "execution_count": 12
        }
      ]
    },
    {
      "cell_type": "code",
      "source": [
        "print(\"Gender CDP 60% : \")\n",
        "df[df[\"Gender\"] == \"Female\"][\"Recall 60%\"].mean() / df[df[\"Gender\"] == \"Male\"][\"Recall 60%\"].mean()"
      ],
      "metadata": {
        "colab": {
          "base_uri": "https://localhost:8080/"
        },
        "id": "ZVGUE12u0KlY",
        "outputId": "4828c019-570b-4551-f200-8aa1ce6c2406"
      },
      "execution_count": 13,
      "outputs": [
        {
          "output_type": "stream",
          "name": "stdout",
          "text": [
            "Gender CDP 60% : \n"
          ]
        },
        {
          "output_type": "execute_result",
          "data": {
            "text/plain": [
              "0.4116920557968297"
            ]
          },
          "metadata": {},
          "execution_count": 13
        }
      ]
    },
    {
      "cell_type": "code",
      "source": [
        "stats.ttest_ind(df[df[\"Gender\"] == \"Female\"][\"Recall 60%\"].to_list(), df[df[\"Gender\"] == \"Male\"][\"Recall 60%\"].to_list())"
      ],
      "metadata": {
        "colab": {
          "base_uri": "https://localhost:8080/"
        },
        "id": "YAhtC7BH3L3k",
        "outputId": "3ac8f000-512a-45c4-deb7-84d5bdc3eb49"
      },
      "execution_count": 14,
      "outputs": [
        {
          "output_type": "execute_result",
          "data": {
            "text/plain": [
              "TtestResult(statistic=-2.4202189896433155, pvalue=0.017454439875374768, df=93.0)"
            ]
          },
          "metadata": {},
          "execution_count": 14
        }
      ]
    },
    {
      "cell_type": "code",
      "source": [
        "print(\"Gender CDP 70% : \")\n",
        "df[df[\"Gender\"] == \"Female\"][\"Recall 70%\"].mean() / df[df[\"Gender\"] == \"Male\"][\"Recall 70%\"].mean()"
      ],
      "metadata": {
        "colab": {
          "base_uri": "https://localhost:8080/"
        },
        "id": "fxgpFWbz0vac",
        "outputId": "656430ad-530a-4e7f-eb5f-9da50875a382"
      },
      "execution_count": 15,
      "outputs": [
        {
          "output_type": "stream",
          "name": "stdout",
          "text": [
            "Gender CDP 70% : \n"
          ]
        },
        {
          "output_type": "execute_result",
          "data": {
            "text/plain": [
              "0.045808954205442294"
            ]
          },
          "metadata": {},
          "execution_count": 15
        }
      ]
    },
    {
      "cell_type": "code",
      "source": [
        "stats.ttest_ind(df[df[\"Gender\"] == \"Female\"][\"Recall 70%\"].to_list(), df[df[\"Gender\"] == \"Male\"][\"Recall 70%\"].to_list())"
      ],
      "metadata": {
        "colab": {
          "base_uri": "https://localhost:8080/"
        },
        "id": "2Fl5W2JT3W7r",
        "outputId": "c160a2e3-4367-4722-bc3c-aa94aee76b96"
      },
      "execution_count": 16,
      "outputs": [
        {
          "output_type": "execute_result",
          "data": {
            "text/plain": [
              "TtestResult(statistic=-2.599486104614053, pvalue=0.010858405555783985, df=93.0)"
            ]
          },
          "metadata": {},
          "execution_count": 16
        }
      ]
    },
    {
      "cell_type": "code",
      "source": [
        "print(\"Gender CDP 80% : \")\n",
        "df[df[\"Gender\"] == \"Female\"][\"Recall 80%\"].mean() / df[df[\"Gender\"] == \"Male\"][\"Recall 80%\"].mean()"
      ],
      "metadata": {
        "colab": {
          "base_uri": "https://localhost:8080/"
        },
        "id": "y1NkPgrI00wu",
        "outputId": "e4242173-954b-4ad1-97f4-2b1c6be89ac1"
      },
      "execution_count": 17,
      "outputs": [
        {
          "output_type": "stream",
          "name": "stdout",
          "text": [
            "Gender CDP 80% : \n"
          ]
        },
        {
          "output_type": "execute_result",
          "data": {
            "text/plain": [
              "0.05758760354452312"
            ]
          },
          "metadata": {},
          "execution_count": 17
        }
      ]
    },
    {
      "cell_type": "code",
      "source": [
        "stats.ttest_ind(df[df[\"Gender\"] == \"Female\"][\"Recall 80%\"].to_list(), df[df[\"Gender\"] == \"Male\"][\"Recall 80%\"].to_list())"
      ],
      "metadata": {
        "colab": {
          "base_uri": "https://localhost:8080/"
        },
        "id": "2afCDStW3bOK",
        "outputId": "818fae4d-ee74-4d0a-900f-f2cdafca87ba"
      },
      "execution_count": 18,
      "outputs": [
        {
          "output_type": "execute_result",
          "data": {
            "text/plain": [
              "TtestResult(statistic=-2.248878045380056, pvalue=0.026880980061748765, df=93.0)"
            ]
          },
          "metadata": {},
          "execution_count": 18
        }
      ]
    },
    {
      "cell_type": "markdown",
      "source": [
        "# Ethnicity Conditional Demographic Parity"
      ],
      "metadata": {
        "id": "upVc6yQY2LNL"
      }
    },
    {
      "cell_type": "code",
      "source": [
        "print(\"Ethnicity CDP 50% : \")\n",
        "df[df[\"Ethnicity\"] != \"White\"][\"Recall 50%\"].mean() / df[df[\"Ethnicity\"] == \"White\"][\"Recall 50%\"].mean()"
      ],
      "metadata": {
        "colab": {
          "base_uri": "https://localhost:8080/"
        },
        "id": "P3za60oj2Pu1",
        "outputId": "1dcc2404-31f9-4c70-c2d5-ead0834eb666"
      },
      "execution_count": 19,
      "outputs": [
        {
          "output_type": "stream",
          "name": "stdout",
          "text": [
            "Ethnicity CDP 50% : \n"
          ]
        },
        {
          "output_type": "execute_result",
          "data": {
            "text/plain": [
              "1.7239185941011077"
            ]
          },
          "metadata": {},
          "execution_count": 19
        }
      ]
    },
    {
      "cell_type": "code",
      "source": [
        "stats.ttest_ind(df[df[\"Ethnicity\"] != \"White\"][\"Recall 50%\"].to_list(), df[df[\"Ethnicity\"] == \"White\"][\"Recall 50%\"].to_list())"
      ],
      "metadata": {
        "colab": {
          "base_uri": "https://localhost:8080/"
        },
        "id": "lu1SwJVv3vYv",
        "outputId": "766a4626-88c8-470b-c081-9519b5b6b092"
      },
      "execution_count": 20,
      "outputs": [
        {
          "output_type": "execute_result",
          "data": {
            "text/plain": [
              "TtestResult(statistic=2.5025854325575723, pvalue=0.014074753623473485, df=93.0)"
            ]
          },
          "metadata": {},
          "execution_count": 20
        }
      ]
    },
    {
      "cell_type": "code",
      "source": [
        "print(\"Ethnicity CDP 60% : \")\n",
        "df[df[\"Ethnicity\"] != \"White\"][\"Recall 60%\"].mean() / df[df[\"Ethnicity\"] == \"White\"][\"Recall 60%\"].mean()"
      ],
      "metadata": {
        "colab": {
          "base_uri": "https://localhost:8080/"
        },
        "id": "zaBUNSLa2aCF",
        "outputId": "1b2290cb-8570-4553-d16d-f1cf4d66eab5"
      },
      "execution_count": 21,
      "outputs": [
        {
          "output_type": "stream",
          "name": "stdout",
          "text": [
            "Ethnicity CDP 60% : \n"
          ]
        },
        {
          "output_type": "execute_result",
          "data": {
            "text/plain": [
              "2.1552579107140586"
            ]
          },
          "metadata": {},
          "execution_count": 21
        }
      ]
    },
    {
      "cell_type": "code",
      "source": [
        "stats.ttest_ind(df[df[\"Ethnicity\"] != \"White\"][\"Recall 60%\"].to_list(), df[df[\"Ethnicity\"] == \"White\"][\"Recall 60%\"].to_list())"
      ],
      "metadata": {
        "colab": {
          "base_uri": "https://localhost:8080/"
        },
        "id": "ZF5X0ybr4U0H",
        "outputId": "01c28d5d-8144-44ab-af22-3836b99e7cc5"
      },
      "execution_count": 22,
      "outputs": [
        {
          "output_type": "execute_result",
          "data": {
            "text/plain": [
              "TtestResult(statistic=2.072333535007129, pvalue=0.04100196969384453, df=93.0)"
            ]
          },
          "metadata": {},
          "execution_count": 22
        }
      ]
    },
    {
      "cell_type": "code",
      "source": [
        "print(\"Ethnicity CDP 70% : \")\n",
        "df[df[\"Ethnicity\"] != \"White\"][\"Recall 70%\"].mean() / df[df[\"Ethnicity\"] == \"White\"][\"Recall 70%\"].mean()"
      ],
      "metadata": {
        "colab": {
          "base_uri": "https://localhost:8080/"
        },
        "id": "JlS_-NGd2dPk",
        "outputId": "813ca26c-fa74-468a-d941-9d93b6469d57"
      },
      "execution_count": 23,
      "outputs": [
        {
          "output_type": "stream",
          "name": "stdout",
          "text": [
            "Ethnicity CDP 70% : \n"
          ]
        },
        {
          "output_type": "execute_result",
          "data": {
            "text/plain": [
              "3.928302696524398"
            ]
          },
          "metadata": {},
          "execution_count": 23
        }
      ]
    },
    {
      "cell_type": "code",
      "source": [
        "stats.ttest_ind(df[df[\"Ethnicity\"] != \"White\"][\"Recall 70%\"].to_list(), df[df[\"Ethnicity\"] == \"White\"][\"Recall 70%\"].to_list())"
      ],
      "metadata": {
        "colab": {
          "base_uri": "https://localhost:8080/"
        },
        "id": "aC6V-IUl4eHT",
        "outputId": "dac6d719-7ae8-4cae-ed7f-638811522f14"
      },
      "execution_count": 24,
      "outputs": [
        {
          "output_type": "execute_result",
          "data": {
            "text/plain": [
              "TtestResult(statistic=1.7600449241071645, pvalue=0.08168817422886794, df=93.0)"
            ]
          },
          "metadata": {},
          "execution_count": 24
        }
      ]
    },
    {
      "cell_type": "code",
      "source": [
        "print(\"Ethnicity CDP 80% : \")\n",
        "df[df[\"Ethnicity\"] != \"White\"][\"Recall 80%\"].mean() / df[df[\"Ethnicity\"] == \"White\"][\"Recall 80%\"].mean()"
      ],
      "metadata": {
        "colab": {
          "base_uri": "https://localhost:8080/"
        },
        "id": "hBpKNb5T2h6o",
        "outputId": "544b135e-08ac-4634-aa13-94c7608a1588"
      },
      "execution_count": 25,
      "outputs": [
        {
          "output_type": "stream",
          "name": "stdout",
          "text": [
            "Ethnicity CDP 80% : \n"
          ]
        },
        {
          "output_type": "execute_result",
          "data": {
            "text/plain": [
              "8.484048175072388"
            ]
          },
          "metadata": {},
          "execution_count": 25
        }
      ]
    },
    {
      "cell_type": "code",
      "source": [
        "stats.ttest_ind(df[df[\"Ethnicity\"] != \"White\"][\"Recall 80%\"].to_list(), df[df[\"Ethnicity\"] == \"White\"][\"Recall 80%\"].to_list())"
      ],
      "metadata": {
        "colab": {
          "base_uri": "https://localhost:8080/"
        },
        "id": "YbLnmz4f4gxJ",
        "outputId": "486466b0-8838-4816-9ac1-a528961a1e4f"
      },
      "execution_count": 26,
      "outputs": [
        {
          "output_type": "execute_result",
          "data": {
            "text/plain": [
              "TtestResult(statistic=1.9472103870197461, pvalue=0.05452626903135477, df=93.0)"
            ]
          },
          "metadata": {},
          "execution_count": 26
        }
      ]
    },
    {
      "cell_type": "markdown",
      "source": [
        "# Language Conditional Demographic Parity"
      ],
      "metadata": {
        "id": "J713qsPN5W61"
      }
    },
    {
      "cell_type": "code",
      "source": [
        "englishCountries = [\"USA\", \"UK\", \"Ireland\", \"Canada\", \"Australia\"]"
      ],
      "metadata": {
        "id": "HMqlnEgh7yUk"
      },
      "execution_count": 27,
      "outputs": []
    },
    {
      "cell_type": "code",
      "source": [
        "non_english_recall_mean = df[~df[\"Country\"].isin(englishCountries)][\"Recall 50%\"].mean()\n",
        "english_recall_mean = df[df[\"Country\"].isin(englishCountries)][\"Recall 50%\"].mean()\n",
        "\n",
        "language_demographic_parity = non_english_recall_mean / english_recall_mean\n",
        "print(\"Language CDP 50%:\", language_demographic_parity)"
      ],
      "metadata": {
        "colab": {
          "base_uri": "https://localhost:8080/"
        },
        "id": "ZPHRY2lb-swM",
        "outputId": "3c6e7e0c-49b3-4b89-dbaf-62d565e1eb6e"
      },
      "execution_count": 28,
      "outputs": [
        {
          "output_type": "stream",
          "name": "stdout",
          "text": [
            "Language CDP 50%: 1.1233339312735078\n"
          ]
        }
      ]
    },
    {
      "cell_type": "code",
      "source": [
        "stats.ttest_ind(df[~df[\"Country\"].isin(englishCountries)][\"Recall 50%\"].to_list(), df[df[\"Country\"].isin(englishCountries)][\"Recall 50%\"].to_list())"
      ],
      "metadata": {
        "colab": {
          "base_uri": "https://localhost:8080/"
        },
        "id": "J5RqarNH40C4",
        "outputId": "55e2b2ab-24e7-4d4c-bc4c-fe0adeb44a93"
      },
      "execution_count": 29,
      "outputs": [
        {
          "output_type": "execute_result",
          "data": {
            "text/plain": [
              "TtestResult(statistic=0.665177651417477, pvalue=0.5075831418290142, df=93.0)"
            ]
          },
          "metadata": {},
          "execution_count": 29
        }
      ]
    },
    {
      "cell_type": "code",
      "source": [
        "non_english_recall_mean = df[~df[\"Country\"].isin(englishCountries)][\"Recall 60%\"].mean()\n",
        "english_recall_mean = df[df[\"Country\"].isin(englishCountries)][\"Recall 60%\"].mean()\n",
        "\n",
        "language_demographic_parity = non_english_recall_mean / english_recall_mean\n",
        "print(\"Language CDP 60%:\", language_demographic_parity)"
      ],
      "metadata": {
        "colab": {
          "base_uri": "https://localhost:8080/"
        },
        "id": "aCvc9aKG-_3h",
        "outputId": "56e917cc-3f7b-4d5e-f7f0-0d6589b2c1fd"
      },
      "execution_count": 30,
      "outputs": [
        {
          "output_type": "stream",
          "name": "stdout",
          "text": [
            "Language CDP 60%: 1.1271563470505859\n"
          ]
        }
      ]
    },
    {
      "cell_type": "code",
      "source": [
        "stats.ttest_ind(df[~df[\"Country\"].isin(englishCountries)][\"Recall 60%\"].to_list(), df[df[\"Country\"].isin(englishCountries)][\"Recall 60%\"].to_list())"
      ],
      "metadata": {
        "colab": {
          "base_uri": "https://localhost:8080/"
        },
        "id": "0me4xT0t4-jJ",
        "outputId": "124c129d-de26-4ae7-a8d7-8a3488ce1baf"
      },
      "execution_count": 31,
      "outputs": [
        {
          "output_type": "execute_result",
          "data": {
            "text/plain": [
              "TtestResult(statistic=0.4318464073986611, pvalue=0.666852601520896, df=93.0)"
            ]
          },
          "metadata": {},
          "execution_count": 31
        }
      ]
    },
    {
      "cell_type": "code",
      "source": [
        "non_english_recall_mean = df[~df[\"Country\"].isin(englishCountries)][\"Recall 70%\"].mean()\n",
        "english_recall_mean = df[df[\"Country\"].isin(englishCountries)][\"Recall 70%\"].mean()\n",
        "\n",
        "language_demographic_parity = non_english_recall_mean / english_recall_mean\n",
        "print(\"Language CDP 70%:\", language_demographic_parity)"
      ],
      "metadata": {
        "colab": {
          "base_uri": "https://localhost:8080/"
        },
        "id": "uNGIVRAl_GQm",
        "outputId": "d5cb178e-e7e3-4476-e837-77ce13055578"
      },
      "execution_count": 32,
      "outputs": [
        {
          "output_type": "stream",
          "name": "stdout",
          "text": [
            "Language CDP 70%: 1.5124472015340424\n"
          ]
        }
      ]
    },
    {
      "cell_type": "code",
      "source": [
        "stats.ttest_ind(df[~df[\"Country\"].isin(englishCountries)][\"Recall 70%\"].to_list(), df[df[\"Country\"].isin(englishCountries)][\"Recall 70%\"].to_list())"
      ],
      "metadata": {
        "colab": {
          "base_uri": "https://localhost:8080/"
        },
        "id": "yYoIpMHn5BVT",
        "outputId": "59074110-b3d5-4a35-8d90-7690b5a6f524"
      },
      "execution_count": 33,
      "outputs": [
        {
          "output_type": "execute_result",
          "data": {
            "text/plain": [
              "TtestResult(statistic=0.8431718296006397, pvalue=0.40129576326841554, df=93.0)"
            ]
          },
          "metadata": {},
          "execution_count": 33
        }
      ]
    },
    {
      "cell_type": "code",
      "source": [
        "non_english_recall_mean = df[~df[\"Country\"].isin(englishCountries)][\"Recall 80%\"].mean()\n",
        "english_recall_mean = df[df[\"Country\"].isin(englishCountries)][\"Recall 80%\"].mean()\n",
        "\n",
        "language_demographic_parity = non_english_recall_mean / english_recall_mean\n",
        "print(\"Language CDP 80%:\", language_demographic_parity)"
      ],
      "metadata": {
        "colab": {
          "base_uri": "https://localhost:8080/"
        },
        "id": "riH-nZ3M_MaH",
        "outputId": "dec3ba00-86b1-4203-e0f0-a1c730894e03"
      },
      "execution_count": 34,
      "outputs": [
        {
          "output_type": "stream",
          "name": "stdout",
          "text": [
            "Language CDP 80%: 1.8903101775884361\n"
          ]
        }
      ]
    },
    {
      "cell_type": "code",
      "source": [
        "stats.ttest_ind(df[~df[\"Country\"].isin(englishCountries)][\"Recall 80%\"].to_list(), df[df[\"Country\"].isin(englishCountries)][\"Recall 80%\"].to_list())"
      ],
      "metadata": {
        "colab": {
          "base_uri": "https://localhost:8080/"
        },
        "id": "zdK3xvB55D3u",
        "outputId": "00cfeffd-0c80-4eb4-d128-1fa982478e70"
      },
      "execution_count": 35,
      "outputs": [
        {
          "output_type": "execute_result",
          "data": {
            "text/plain": [
              "TtestResult(statistic=1.1301884909674416, pvalue=0.26130323017559093, df=93.0)"
            ]
          },
          "metadata": {},
          "execution_count": 35
        }
      ]
    }
  ]
}