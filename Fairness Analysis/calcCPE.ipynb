{
  "nbformat": 4,
  "nbformat_minor": 0,
  "metadata": {
    "colab": {
      "provenance": []
    },
    "kernelspec": {
      "name": "python3",
      "display_name": "Python 3"
    },
    "language_info": {
      "name": "python"
    }
  },
  "cells": [
    {
      "cell_type": "code",
      "execution_count": 1,
      "metadata": {
        "id": "JKdK3CNAvNxs"
      },
      "outputs": [],
      "source": [
        "!cp \"/content/drive/MyDrive/Authorship Bias Paper/Data/matchData.csv\" ."
      ]
    },
    {
      "cell_type": "code",
      "source": [
        "import pandas as pd\n",
        "import numpy as np\n",
        "from scipy import stats"
      ],
      "metadata": {
        "id": "xfqqJsm6yHp5"
      },
      "execution_count": 2,
      "outputs": []
    },
    {
      "cell_type": "code",
      "source": [
        "df = pd.read_csv(\"matchData.csv\")\n",
        "df = df[df[\"h-index\"] < 15]\n",
        "df.columns"
      ],
      "metadata": {
        "colab": {
          "base_uri": "https://localhost:8080/"
        },
        "id": "ToEom3HLyLRC",
        "outputId": "cb8a72bf-8871-4b3f-9c14-e5e9294f86ab"
      },
      "execution_count": 3,
      "outputs": [
        {
          "output_type": "execute_result",
          "data": {
            "text/plain": [
              "Index(['Name', 'Google Scholar ID', 'Gender', 'Ethnicity', 'Affiliation',\n",
              "       'Country', 'h-index', 'Citation count',\n",
              "       'Co-authors’ names (Google Scholar)',\n",
              "       'Co-authors’ genders (Google Scholar)',\n",
              "       'Co-authors’ ethnicity (Google Scholar)', 'Co-authors’ names (OpenAI)',\n",
              "       'Co-authors’ genders (OpenAI)', 'Co-authors’ ethnicity (OpenAI)',\n",
              "       'Match Count 50%', 'Match Count 60%', 'Match Count 70%',\n",
              "       'Match Count 80%'],\n",
              "      dtype='object')"
            ]
          },
          "metadata": {},
          "execution_count": 3
        }
      ]
    },
    {
      "cell_type": "code",
      "source": [
        "df[\"Precision 50%\"] = 0\n",
        "df[\"Precision 60%\"] = 0\n",
        "df[\"Precision 70%\"] = 0\n",
        "df[\"Precision 80%\"] = 0"
      ],
      "metadata": {
        "id": "CiOQbrxtybyp"
      },
      "execution_count": 4,
      "outputs": []
    },
    {
      "cell_type": "code",
      "source": [
        "for index, row in df.iterrows():\n",
        "  df.at[index, \"Precision 50%\"] = row[\"Match Count 50%\"] / len(row[\"Co-authors’ names (OpenAI)\"].split(\", \"))\n",
        "  df.at[index, \"Precision 60%\"] = row[\"Match Count 60%\"] / len(row[\"Co-authors’ names (OpenAI)\"].split(\", \"))\n",
        "  df.at[index, \"Precision 70%\"] = row[\"Match Count 70%\"] / len(row[\"Co-authors’ names (OpenAI)\"].split(\", \"))\n",
        "  df.at[index, \"Precision 80%\"] = row[\"Match Count 80%\"] / len(row[\"Co-authors’ names (OpenAI)\"].split(\", \"))"
      ],
      "metadata": {
        "id": "KqZMgPK-ynys"
      },
      "execution_count": 5,
      "outputs": []
    },
    {
      "cell_type": "markdown",
      "source": [
        "# Gender Conditional Predictive Equality"
      ],
      "metadata": {
        "id": "Ca4J3QzH2rxb"
      }
    },
    {
      "cell_type": "code",
      "source": [
        "print(\"Gender CPE 50% : \")\n",
        "df[df[\"Gender\"] == \"Female\"][\"Precision 50%\"].mean() / df[df[\"Gender\"] == \"Male\"][\"Precision 50%\"].mean()"
      ],
      "metadata": {
        "colab": {
          "base_uri": "https://localhost:8080/"
        },
        "id": "i_-odFgTziE7",
        "outputId": "e53ae4ad-dfdb-4c5c-d845-53f234351464"
      },
      "execution_count": 6,
      "outputs": [
        {
          "output_type": "stream",
          "name": "stdout",
          "text": [
            "Gender CPE 50% : \n"
          ]
        },
        {
          "output_type": "execute_result",
          "data": {
            "text/plain": [
              "0.7216115546683733"
            ]
          },
          "metadata": {},
          "execution_count": 6
        }
      ]
    },
    {
      "cell_type": "code",
      "source": [
        "stats.ttest_ind(df[df[\"Gender\"] == \"Female\"][\"Precision 50%\"].to_list(), df[df[\"Gender\"] == \"Male\"][\"Precision 50%\"].to_list())"
      ],
      "metadata": {
        "colab": {
          "base_uri": "https://localhost:8080/"
        },
        "id": "_HByhCfM5o75",
        "outputId": "1d8c6f38-c5c0-4d04-cd0f-415ebaa1c085"
      },
      "execution_count": 7,
      "outputs": [
        {
          "output_type": "execute_result",
          "data": {
            "text/plain": [
              "TtestResult(statistic=-1.6809772432090644, pvalue=0.09612303241802395, df=93.0)"
            ]
          },
          "metadata": {},
          "execution_count": 7
        }
      ]
    },
    {
      "cell_type": "code",
      "source": [
        "print(\"Gender CPE 60% : \")\n",
        "df[df[\"Gender\"] == \"Female\"][\"Precision 60%\"].mean() / df[df[\"Gender\"] == \"Male\"][\"Precision 60%\"].mean()"
      ],
      "metadata": {
        "colab": {
          "base_uri": "https://localhost:8080/"
        },
        "id": "ZVGUE12u0KlY",
        "outputId": "42a67b4c-ad9e-4c11-8ce6-5accd4a7fd35"
      },
      "execution_count": 8,
      "outputs": [
        {
          "output_type": "stream",
          "name": "stdout",
          "text": [
            "Gender CPE 60% : \n"
          ]
        },
        {
          "output_type": "execute_result",
          "data": {
            "text/plain": [
              "0.3343093191432842"
            ]
          },
          "metadata": {},
          "execution_count": 8
        }
      ]
    },
    {
      "cell_type": "code",
      "source": [
        "stats.ttest_ind(df[df[\"Gender\"] == \"Female\"][\"Precision 60%\"].to_list(), df[df[\"Gender\"] == \"Male\"][\"Precision 60%\"].to_list())"
      ],
      "metadata": {
        "colab": {
          "base_uri": "https://localhost:8080/"
        },
        "id": "ouUzx9-d5rtK",
        "outputId": "91b6c1aa-82b1-45f0-fb15-1e439ec21b05"
      },
      "execution_count": 9,
      "outputs": [
        {
          "output_type": "execute_result",
          "data": {
            "text/plain": [
              "TtestResult(statistic=-2.8443041319295364, pvalue=0.005473211753285647, df=93.0)"
            ]
          },
          "metadata": {},
          "execution_count": 9
        }
      ]
    },
    {
      "cell_type": "code",
      "source": [
        "print(\"Gender CPE 70% : \")\n",
        "df[df[\"Gender\"] == \"Female\"][\"Precision 70%\"].mean() / df[df[\"Gender\"] == \"Male\"][\"Precision 70%\"].mean()"
      ],
      "metadata": {
        "colab": {
          "base_uri": "https://localhost:8080/"
        },
        "id": "fxgpFWbz0vac",
        "outputId": "d8bac886-c921-4647-fcab-e30eec800241"
      },
      "execution_count": 10,
      "outputs": [
        {
          "output_type": "stream",
          "name": "stdout",
          "text": [
            "Gender CPE 70% : \n"
          ]
        },
        {
          "output_type": "execute_result",
          "data": {
            "text/plain": [
              "0.06581103030769879"
            ]
          },
          "metadata": {},
          "execution_count": 10
        }
      ]
    },
    {
      "cell_type": "code",
      "source": [
        "stats.ttest_ind(df[df[\"Gender\"] == \"Female\"][\"Precision 70%\"].to_list(), df[df[\"Gender\"] == \"Male\"][\"Precision 70%\"].to_list())"
      ],
      "metadata": {
        "colab": {
          "base_uri": "https://localhost:8080/"
        },
        "id": "Dvm0WtIC5tGX",
        "outputId": "7626222f-ccac-49b9-e80c-a7385c2ed960"
      },
      "execution_count": 11,
      "outputs": [
        {
          "output_type": "execute_result",
          "data": {
            "text/plain": [
              "TtestResult(statistic=-2.5791399066337233, pvalue=0.01147271998807093, df=93.0)"
            ]
          },
          "metadata": {},
          "execution_count": 11
        }
      ]
    },
    {
      "cell_type": "code",
      "source": [
        "print(\"Gender CPE 80% : \")\n",
        "df[df[\"Gender\"] == \"Female\"][\"Precision 80%\"].mean() / df[df[\"Gender\"] == \"Male\"][\"Precision 80%\"].mean()"
      ],
      "metadata": {
        "colab": {
          "base_uri": "https://localhost:8080/"
        },
        "id": "y1NkPgrI00wu",
        "outputId": "c94a8f52-df7e-4cb3-b91a-eb2c30d28e49"
      },
      "execution_count": 12,
      "outputs": [
        {
          "output_type": "stream",
          "name": "stdout",
          "text": [
            "Gender CPE 80% : \n"
          ]
        },
        {
          "output_type": "execute_result",
          "data": {
            "text/plain": [
              "0.08225135814588404"
            ]
          },
          "metadata": {},
          "execution_count": 12
        }
      ]
    },
    {
      "cell_type": "code",
      "source": [
        "stats.ttest_ind(df[df[\"Gender\"] == \"Female\"][\"Precision 80%\"].to_list(), df[df[\"Gender\"] == \"Male\"][\"Precision 80%\"].to_list())"
      ],
      "metadata": {
        "colab": {
          "base_uri": "https://localhost:8080/"
        },
        "id": "9YH3Ja6E5t2I",
        "outputId": "4a7276b6-33a4-4199-f75f-f84ceafa9d67"
      },
      "execution_count": 13,
      "outputs": [
        {
          "output_type": "execute_result",
          "data": {
            "text/plain": [
              "TtestResult(statistic=-2.164715141697237, pvalue=0.03296984229951152, df=93.0)"
            ]
          },
          "metadata": {},
          "execution_count": 13
        }
      ]
    },
    {
      "cell_type": "markdown",
      "source": [
        "# Ethnicity Conditional Predictive Equality"
      ],
      "metadata": {
        "id": "upVc6yQY2LNL"
      }
    },
    {
      "cell_type": "code",
      "source": [
        "print(\"Ethnicity CPE 50% : \")\n",
        "df[df[\"Ethnicity\"] != \"White\"][\"Precision 50%\"].mean() / df[df[\"Ethnicity\"] == \"White\"][\"Precision 50%\"].mean()"
      ],
      "metadata": {
        "colab": {
          "base_uri": "https://localhost:8080/"
        },
        "id": "P3za60oj2Pu1",
        "outputId": "881a1201-215e-4487-cf25-2702f74bbf4b"
      },
      "execution_count": 14,
      "outputs": [
        {
          "output_type": "stream",
          "name": "stdout",
          "text": [
            "Ethnicity CPE 50% : \n"
          ]
        },
        {
          "output_type": "execute_result",
          "data": {
            "text/plain": [
              "1.3511482746956356"
            ]
          },
          "metadata": {},
          "execution_count": 14
        }
      ]
    },
    {
      "cell_type": "code",
      "source": [
        "stats.ttest_ind(df[df[\"Ethnicity\"] != \"White\"][\"Precision 50%\"].to_list(), df[df[\"Ethnicity\"] == \"White\"][\"Precision 50%\"].to_list())"
      ],
      "metadata": {
        "colab": {
          "base_uri": "https://localhost:8080/"
        },
        "id": "6kl4KOIw55z5",
        "outputId": "8d15d655-6cea-4478-841a-a43cd4cd548f"
      },
      "execution_count": 15,
      "outputs": [
        {
          "output_type": "execute_result",
          "data": {
            "text/plain": [
              "TtestResult(statistic=1.5122759358453388, pvalue=0.13385450894540768, df=93.0)"
            ]
          },
          "metadata": {},
          "execution_count": 15
        }
      ]
    },
    {
      "cell_type": "code",
      "source": [
        "print(\"Ethnicity CPE 60% : \")\n",
        "df[df[\"Ethnicity\"] != \"White\"][\"Precision 60%\"].mean() / df[df[\"Ethnicity\"] == \"White\"][\"Precision 60%\"].mean()"
      ],
      "metadata": {
        "colab": {
          "base_uri": "https://localhost:8080/"
        },
        "id": "zaBUNSLa2aCF",
        "outputId": "3952e64f-8be0-492e-d18e-58e291600dd5"
      },
      "execution_count": 16,
      "outputs": [
        {
          "output_type": "stream",
          "name": "stdout",
          "text": [
            "Ethnicity CPE 60% : \n"
          ]
        },
        {
          "output_type": "execute_result",
          "data": {
            "text/plain": [
              "1.6157897624322215"
            ]
          },
          "metadata": {},
          "execution_count": 16
        }
      ]
    },
    {
      "cell_type": "code",
      "source": [
        "stats.ttest_ind(df[df[\"Ethnicity\"] != \"White\"][\"Precision 60%\"].to_list(), df[df[\"Ethnicity\"] == \"White\"][\"Precision 60%\"].to_list())"
      ],
      "metadata": {
        "colab": {
          "base_uri": "https://localhost:8080/"
        },
        "id": "N82qtRxf6BeG",
        "outputId": "95817da9-4d95-4b19-f6fe-6c7621cfaf88"
      },
      "execution_count": 17,
      "outputs": [
        {
          "output_type": "execute_result",
          "data": {
            "text/plain": [
              "TtestResult(statistic=1.384680342137563, pvalue=0.1694633558600264, df=93.0)"
            ]
          },
          "metadata": {},
          "execution_count": 17
        }
      ]
    },
    {
      "cell_type": "code",
      "source": [
        "print(\"Ethnicity CPE 70% : \")\n",
        "df[df[\"Ethnicity\"] != \"White\"][\"Precision 70%\"].mean() / df[df[\"Ethnicity\"] == \"White\"][\"Precision 70%\"].mean()"
      ],
      "metadata": {
        "colab": {
          "base_uri": "https://localhost:8080/"
        },
        "id": "JlS_-NGd2dPk",
        "outputId": "d3853636-40d3-425f-fc43-3f0dc04af7e3"
      },
      "execution_count": 18,
      "outputs": [
        {
          "output_type": "stream",
          "name": "stdout",
          "text": [
            "Ethnicity CPE 70% : \n"
          ]
        },
        {
          "output_type": "execute_result",
          "data": {
            "text/plain": [
              "3.5139542956105076"
            ]
          },
          "metadata": {},
          "execution_count": 18
        }
      ]
    },
    {
      "cell_type": "code",
      "source": [
        "stats.ttest_ind(df[df[\"Ethnicity\"] != \"White\"][\"Precision 70%\"].to_list(), df[df[\"Ethnicity\"] == \"White\"][\"Precision 70%\"].to_list())"
      ],
      "metadata": {
        "colab": {
          "base_uri": "https://localhost:8080/"
        },
        "id": "YhupJPx86Dev",
        "outputId": "31231dcb-139e-4bba-fa26-321989ccc105"
      },
      "execution_count": 19,
      "outputs": [
        {
          "output_type": "execute_result",
          "data": {
            "text/plain": [
              "TtestResult(statistic=1.707528347478202, pvalue=0.0910603091822412, df=93.0)"
            ]
          },
          "metadata": {},
          "execution_count": 19
        }
      ]
    },
    {
      "cell_type": "code",
      "source": [
        "print(\"Ethnicity CPE 80% : \")\n",
        "df[df[\"Ethnicity\"] != \"White\"][\"Precision 80%\"].mean() / df[df[\"Ethnicity\"] == \"White\"][\"Precision 80%\"].mean()"
      ],
      "metadata": {
        "colab": {
          "base_uri": "https://localhost:8080/"
        },
        "id": "hBpKNb5T2h6o",
        "outputId": "553d4358-0fdc-4e5a-a513-a7de2b6657f1"
      },
      "execution_count": 20,
      "outputs": [
        {
          "output_type": "stream",
          "name": "stdout",
          "text": [
            "Ethnicity CPE 80% : \n"
          ]
        },
        {
          "output_type": "execute_result",
          "data": {
            "text/plain": [
              "5.859647968430142"
            ]
          },
          "metadata": {},
          "execution_count": 20
        }
      ]
    },
    {
      "cell_type": "code",
      "source": [
        "stats.ttest_ind(df[df[\"Ethnicity\"] != \"White\"][\"Precision 80%\"].to_list(), df[df[\"Ethnicity\"] == \"White\"][\"Precision 80%\"].to_list())"
      ],
      "metadata": {
        "colab": {
          "base_uri": "https://localhost:8080/"
        },
        "id": "8EWOvwvv6GBD",
        "outputId": "7fc69fec-1716-4201-8c8a-29b0e791245b"
      },
      "execution_count": 21,
      "outputs": [
        {
          "output_type": "execute_result",
          "data": {
            "text/plain": [
              "TtestResult(statistic=1.7915753118928486, pvalue=0.0764536357377256, df=93.0)"
            ]
          },
          "metadata": {},
          "execution_count": 21
        }
      ]
    },
    {
      "cell_type": "markdown",
      "source": [
        "# Language Conditional Predictive Equality"
      ],
      "metadata": {
        "id": "lP9TSyrJ3F89"
      }
    },
    {
      "cell_type": "code",
      "source": [
        "englishCountries = [\"USA\", \"UK\", \"Ireland\", \"Canada\", \"Australia\"]"
      ],
      "metadata": {
        "id": "HMqlnEgh7yUk"
      },
      "execution_count": 22,
      "outputs": []
    },
    {
      "cell_type": "code",
      "source": [
        "non_english_precision_mean = df[~df[\"Country\"].isin(englishCountries)][\"Precision 50%\"].mean()\n",
        "english_precision_mean = df[df[\"Country\"].isin(englishCountries)][\"Precision 50%\"].mean()\n",
        "\n",
        "language_predictive_equality = non_english_precision_mean / english_precision_mean\n",
        "print(\"Language CPE 50%:\", language_predictive_equality)"
      ],
      "metadata": {
        "colab": {
          "base_uri": "https://localhost:8080/"
        },
        "id": "ZPHRY2lb-swM",
        "outputId": "e25d5af5-52c7-4391-ab3e-d3ceb6cbd25f"
      },
      "execution_count": 23,
      "outputs": [
        {
          "output_type": "stream",
          "name": "stdout",
          "text": [
            "Language CPE 50%: 1.1101036890701115\n"
          ]
        }
      ]
    },
    {
      "cell_type": "code",
      "source": [
        "stats.ttest_ind(df[~df[\"Country\"].isin(englishCountries)][\"Precision 50%\"].to_list(), df[df[\"Country\"].isin(englishCountries)][\"Precision 50%\"].to_list())"
      ],
      "metadata": {
        "colab": {
          "base_uri": "https://localhost:8080/"
        },
        "id": "0NI1k4yj6JpH",
        "outputId": "ecc57ec4-3326-43d2-ec16-20f8f1428fc5"
      },
      "execution_count": 24,
      "outputs": [
        {
          "output_type": "execute_result",
          "data": {
            "text/plain": [
              "TtestResult(statistic=0.624903563806955, pvalue=0.5335646013870129, df=93.0)"
            ]
          },
          "metadata": {},
          "execution_count": 24
        }
      ]
    },
    {
      "cell_type": "code",
      "source": [
        "non_english_precision_mean = df[~df[\"Country\"].isin(englishCountries)][\"Precision 60%\"].mean()\n",
        "english_precision_mean = df[df[\"Country\"].isin(englishCountries)][\"Precision 60%\"].mean()\n",
        "\n",
        "language_predictive_equality = non_english_precision_mean / english_precision_mean\n",
        "print(\"Language CPE 60%:\", language_predictive_equality)"
      ],
      "metadata": {
        "colab": {
          "base_uri": "https://localhost:8080/"
        },
        "id": "aCvc9aKG-_3h",
        "outputId": "857551c9-1f05-4de6-ee6f-04da440cd3ba"
      },
      "execution_count": 25,
      "outputs": [
        {
          "output_type": "stream",
          "name": "stdout",
          "text": [
            "Language CPE 60%: 1.1125644003084454\n"
          ]
        }
      ]
    },
    {
      "cell_type": "code",
      "source": [
        "stats.ttest_ind(df[~df[\"Country\"].isin(englishCountries)][\"Precision 60%\"].to_list(), df[df[\"Country\"].isin(englishCountries)][\"Precision 60%\"].to_list())"
      ],
      "metadata": {
        "colab": {
          "base_uri": "https://localhost:8080/"
        },
        "id": "-bkaTPUN6UAt",
        "outputId": "69b9d042-64cf-4979-e2e8-4facfb2d4d0d"
      },
      "execution_count": 26,
      "outputs": [
        {
          "output_type": "execute_result",
          "data": {
            "text/plain": [
              "TtestResult(statistic=0.3844440815618274, pvalue=0.7015270135937688, df=93.0)"
            ]
          },
          "metadata": {},
          "execution_count": 26
        }
      ]
    },
    {
      "cell_type": "code",
      "source": [
        "non_english_precision_mean = df[~df[\"Country\"].isin(englishCountries)][\"Precision 70%\"].mean()\n",
        "english_precision_mean = df[df[\"Country\"].isin(englishCountries)][\"Precision 70%\"].mean()\n",
        "\n",
        "language_predictive_equality = non_english_precision_mean / english_precision_mean\n",
        "print(\"Language CPE 70%:\", language_predictive_equality)"
      ],
      "metadata": {
        "colab": {
          "base_uri": "https://localhost:8080/"
        },
        "id": "uNGIVRAl_GQm",
        "outputId": "0cb157c9-cadd-4ae8-bde8-89e3e9d7932d"
      },
      "execution_count": 27,
      "outputs": [
        {
          "output_type": "stream",
          "name": "stdout",
          "text": [
            "Language CPE 70%: 1.771867985319478\n"
          ]
        }
      ]
    },
    {
      "cell_type": "code",
      "source": [
        "stats.ttest_ind(df[~df[\"Country\"].isin(englishCountries)][\"Precision 70%\"].to_list(), df[df[\"Country\"].isin(englishCountries)][\"Precision 70%\"].to_list())"
      ],
      "metadata": {
        "colab": {
          "base_uri": "https://localhost:8080/"
        },
        "id": "pj8jeldg6W9Y",
        "outputId": "c9aa64ae-655f-4756-8d64-6497a913c31b"
      },
      "execution_count": 28,
      "outputs": [
        {
          "output_type": "execute_result",
          "data": {
            "text/plain": [
              "TtestResult(statistic=1.1782826143846288, pvalue=0.2416901017918996, df=93.0)"
            ]
          },
          "metadata": {},
          "execution_count": 28
        }
      ]
    },
    {
      "cell_type": "code",
      "source": [
        "non_english_precision_mean = df[~df[\"Country\"].isin(englishCountries)][\"Precision 80%\"].mean()\n",
        "english_precision_mean = df[df[\"Country\"].isin(englishCountries)][\"Precision 80%\"].mean()\n",
        "\n",
        "language_predictive_equality = non_english_precision_mean / english_precision_mean\n",
        "print(\"Language CPE 80%:\", language_predictive_equality)"
      ],
      "metadata": {
        "colab": {
          "base_uri": "https://localhost:8080/"
        },
        "id": "riH-nZ3M_MaH",
        "outputId": "d562ba17-e872-49c5-e6dc-27c0c522eca0"
      },
      "execution_count": 29,
      "outputs": [
        {
          "output_type": "stream",
          "name": "stdout",
          "text": [
            "Language CPE 80%: 2.4351882641613427\n"
          ]
        }
      ]
    },
    {
      "cell_type": "code",
      "source": [
        "stats.ttest_ind(df[~df[\"Country\"].isin(englishCountries)][\"Precision 80%\"].to_list(), df[df[\"Country\"].isin(englishCountries)][\"Precision 80%\"].to_list())"
      ],
      "metadata": {
        "colab": {
          "base_uri": "https://localhost:8080/"
        },
        "id": "njsvcU0Y6cp8",
        "outputId": "f82ef622-452e-488f-d076-c340e87bdfac"
      },
      "execution_count": 30,
      "outputs": [
        {
          "output_type": "execute_result",
          "data": {
            "text/plain": [
              "TtestResult(statistic=1.536857384201945, pvalue=0.12772364021115895, df=93.0)"
            ]
          },
          "metadata": {},
          "execution_count": 30
        }
      ]
    }
  ]
}