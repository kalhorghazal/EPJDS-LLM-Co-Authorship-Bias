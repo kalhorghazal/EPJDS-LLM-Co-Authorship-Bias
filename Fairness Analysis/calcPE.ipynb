{
  "nbformat": 4,
  "nbformat_minor": 0,
  "metadata": {
    "colab": {
      "provenance": []
    },
    "kernelspec": {
      "name": "python3",
      "display_name": "Python 3"
    },
    "language_info": {
      "name": "python"
    }
  },
  "cells": [
    {
      "cell_type": "code",
      "execution_count": 4,
      "metadata": {
        "id": "JKdK3CNAvNxs"
      },
      "outputs": [],
      "source": [
        "!cp \"/content/drive/MyDrive/Authorship Bias Paper/Data/matchData.csv\" ."
      ]
    },
    {
      "cell_type": "code",
      "source": [
        "import pandas as pd\n",
        "import numpy as np\n",
        "from scipy import stats"
      ],
      "metadata": {
        "id": "xfqqJsm6yHp5"
      },
      "execution_count": 5,
      "outputs": []
    },
    {
      "cell_type": "code",
      "source": [
        "df = pd.read_csv(\"matchData.csv\")\n",
        "df.columns"
      ],
      "metadata": {
        "colab": {
          "base_uri": "https://localhost:8080/"
        },
        "id": "ToEom3HLyLRC",
        "outputId": "2b61f397-44d8-48a8-f54f-30a39463c639"
      },
      "execution_count": 6,
      "outputs": [
        {
          "output_type": "execute_result",
          "data": {
            "text/plain": [
              "Index(['Name', 'Google Scholar ID', 'Gender', 'Ethnicity', 'Affiliation',\n",
              "       'Country', 'h-index', 'Citation count',\n",
              "       'Co-authors’ names (Google Scholar)',\n",
              "       'Co-authors’ genders (Google Scholar)',\n",
              "       'Co-authors’ ethnicity (Google Scholar)', 'Co-authors’ names (OpenAI)',\n",
              "       'Co-authors’ genders (OpenAI)', 'Co-authors’ ethnicity (OpenAI)',\n",
              "       'Match Count 50%', 'Match Count 60%', 'Match Count 70%',\n",
              "       'Match Count 80%'],\n",
              "      dtype='object')"
            ]
          },
          "metadata": {},
          "execution_count": 6
        }
      ]
    },
    {
      "cell_type": "markdown",
      "source": [
        "# Precision"
      ],
      "metadata": {
        "id": "2yNt1Gsk7jac"
      }
    },
    {
      "cell_type": "code",
      "source": [
        "df[\"Precision 50%\"] = 0\n",
        "df[\"Precision 60%\"] = 0\n",
        "df[\"Precision 70%\"] = 0\n",
        "df[\"Precision 80%\"] = 0"
      ],
      "metadata": {
        "id": "CiOQbrxtybyp"
      },
      "execution_count": 7,
      "outputs": []
    },
    {
      "cell_type": "code",
      "source": [
        "for index, row in df.iterrows():\n",
        "  df.at[index, \"Precision 50%\"] = row[\"Match Count 50%\"] / len(row[\"Co-authors’ names (OpenAI)\"].split(\", \"))\n",
        "  df.at[index, \"Precision 60%\"] = row[\"Match Count 60%\"] / len(row[\"Co-authors’ names (OpenAI)\"].split(\", \"))\n",
        "  df.at[index, \"Precision 70%\"] = row[\"Match Count 70%\"] / len(row[\"Co-authors’ names (OpenAI)\"].split(\", \"))\n",
        "  df.at[index, \"Precision 80%\"] = row[\"Match Count 80%\"] / len(row[\"Co-authors’ names (OpenAI)\"].split(\", \"))"
      ],
      "metadata": {
        "id": "KqZMgPK-ynys"
      },
      "execution_count": 8,
      "outputs": []
    },
    {
      "cell_type": "markdown",
      "source": [
        "# Completeness Analysis"
      ],
      "metadata": {
        "id": "09-QvGWB6Ux1"
      }
    },
    {
      "cell_type": "code",
      "source": [
        "std = np.std(df[\"Precision 50%\"].to_list())\n",
        "mean = np.mean(df[\"Precision 50%\"].to_list())\n",
        "print(\"Mean 50% =\", mean, \", std =\", std)"
      ],
      "metadata": {
        "colab": {
          "base_uri": "https://localhost:8080/"
        },
        "id": "Byv3wbEQnjAH",
        "outputId": "f616c3a2-a871-4112-d318-8f198b5ff431"
      },
      "execution_count": 9,
      "outputs": [
        {
          "output_type": "stream",
          "name": "stdout",
          "text": [
            "Mean 50% = 0.44610519620345723 , std = 0.294775639624277\n"
          ]
        }
      ]
    },
    {
      "cell_type": "code",
      "source": [
        "std = np.std(df[\"Precision 60%\"].to_list())\n",
        "mean = np.mean(df[\"Precision 60%\"].to_list())\n",
        "print(\"Mean 60% =\", mean, \", std =\", std)"
      ],
      "metadata": {
        "colab": {
          "base_uri": "https://localhost:8080/"
        },
        "id": "YIy_JrOYnj7T",
        "outputId": "3aaed838-9b33-4e9d-e57c-bed645a37521"
      },
      "execution_count": 10,
      "outputs": [
        {
          "output_type": "stream",
          "name": "stdout",
          "text": [
            "Mean 60% = 0.19127387619114286 , std = 0.215636711956083\n"
          ]
        }
      ]
    },
    {
      "cell_type": "code",
      "source": [
        "std = np.std(df[\"Precision 70%\"].to_list())\n",
        "mean = np.mean(df[\"Precision 70%\"].to_list())\n",
        "print(\"Mean 70% =\", mean, \", std =\", std)"
      ],
      "metadata": {
        "colab": {
          "base_uri": "https://localhost:8080/"
        },
        "id": "etrE4Hlknkfw",
        "outputId": "50bcb332-0806-4670-d5e4-691a9ab4cc55"
      },
      "execution_count": 11,
      "outputs": [
        {
          "output_type": "stream",
          "name": "stdout",
          "text": [
            "Mean 70% = 0.08592132839712865 , std = 0.14539711681777914\n"
          ]
        }
      ]
    },
    {
      "cell_type": "code",
      "source": [
        "std = np.std(df[\"Precision 80%\"].to_list())\n",
        "mean = np.mean(df[\"Precision 80%\"].to_list())\n",
        "print(\"Mean 80% =\", mean, \", std =\", std)"
      ],
      "metadata": {
        "colab": {
          "base_uri": "https://localhost:8080/"
        },
        "id": "CKYUiBeWnlel",
        "outputId": "c48e0784-78ac-4bc8-bfb8-bdadf15cc8f8"
      },
      "execution_count": 12,
      "outputs": [
        {
          "output_type": "stream",
          "name": "stdout",
          "text": [
            "Mean 80% = 0.05859926568293679 , std = 0.12068324054823255\n"
          ]
        }
      ]
    },
    {
      "cell_type": "markdown",
      "source": [
        "# Gender Predictive Equality"
      ],
      "metadata": {
        "id": "Xw5ZdZ-36apK"
      }
    },
    {
      "cell_type": "code",
      "source": [
        "print(\"Gender Predictive Equality 50% : \")\n",
        "df[df[\"Gender\"] == \"Female\"][\"Precision 50%\"].mean() / df[df[\"Gender\"] == \"Male\"][\"Precision 50%\"].mean()"
      ],
      "metadata": {
        "colab": {
          "base_uri": "https://localhost:8080/"
        },
        "id": "i_-odFgTziE7",
        "outputId": "4ea18b77-bd35-480f-cf44-34cabe6549a0"
      },
      "execution_count": 13,
      "outputs": [
        {
          "output_type": "stream",
          "name": "stdout",
          "text": [
            "Gender Predictive Equality 50% : \n"
          ]
        },
        {
          "output_type": "execute_result",
          "data": {
            "text/plain": [
              "0.8864152782627126"
            ]
          },
          "metadata": {},
          "execution_count": 13
        }
      ]
    },
    {
      "cell_type": "code",
      "source": [
        "stats.ttest_ind(df[df[\"Gender\"] == \"Female\"][\"Precision 50%\"].to_list(), df[df[\"Gender\"] == \"Male\"][\"Precision 50%\"].to_list())"
      ],
      "metadata": {
        "colab": {
          "base_uri": "https://localhost:8080/"
        },
        "id": "lkQX0jLCyFdw",
        "outputId": "e20e4d06-ca33-4b37-b2f4-4a07a0bca9ff"
      },
      "execution_count": 14,
      "outputs": [
        {
          "output_type": "execute_result",
          "data": {
            "text/plain": [
              "TtestResult(statistic=-1.4609866582087059, pvalue=0.1448368463883666, df=384.0)"
            ]
          },
          "metadata": {},
          "execution_count": 14
        }
      ]
    },
    {
      "cell_type": "code",
      "source": [
        "print(\"Gender Predictive Equality 60% : \")\n",
        "df[df[\"Gender\"] == \"Female\"][\"Precision 60%\"].mean() / df[df[\"Gender\"] == \"Male\"][\"Precision 60%\"].mean()"
      ],
      "metadata": {
        "colab": {
          "base_uri": "https://localhost:8080/"
        },
        "id": "ZVGUE12u0KlY",
        "outputId": "5e8afcbc-70a7-4a98-82b5-6e20ac40063d"
      },
      "execution_count": 15,
      "outputs": [
        {
          "output_type": "stream",
          "name": "stdout",
          "text": [
            "Gender Predictive Equality 60% : \n"
          ]
        },
        {
          "output_type": "execute_result",
          "data": {
            "text/plain": [
              "0.7682805883382796"
            ]
          },
          "metadata": {},
          "execution_count": 15
        }
      ]
    },
    {
      "cell_type": "code",
      "source": [
        "stats.ttest_ind(df[df[\"Gender\"] == \"Female\"][\"Precision 60%\"].to_list(), df[df[\"Gender\"] == \"Male\"][\"Precision 60%\"].to_list())"
      ],
      "metadata": {
        "colab": {
          "base_uri": "https://localhost:8080/"
        },
        "id": "hDbnd8CMySdT",
        "outputId": "10819c86-4fd4-4269-82ce-ba67718c7821"
      },
      "execution_count": 16,
      "outputs": [
        {
          "output_type": "execute_result",
          "data": {
            "text/plain": [
              "TtestResult(statistic=-1.7997702648861693, pvalue=0.07268174210114157, df=384.0)"
            ]
          },
          "metadata": {},
          "execution_count": 16
        }
      ]
    },
    {
      "cell_type": "code",
      "source": [
        "print(\"Gender Predictive Equality 70% : \")\n",
        "df[df[\"Gender\"] == \"Female\"][\"Precision 70%\"].mean() / df[df[\"Gender\"] == \"Male\"][\"Precision 70%\"].mean()"
      ],
      "metadata": {
        "colab": {
          "base_uri": "https://localhost:8080/"
        },
        "id": "fxgpFWbz0vac",
        "outputId": "66758977-0cae-4196-fd18-3cc3f681b7f4"
      },
      "execution_count": 17,
      "outputs": [
        {
          "output_type": "stream",
          "name": "stdout",
          "text": [
            "Gender Predictive Equality 70% : \n"
          ]
        },
        {
          "output_type": "execute_result",
          "data": {
            "text/plain": [
              "0.9824967171213974"
            ]
          },
          "metadata": {},
          "execution_count": 17
        }
      ]
    },
    {
      "cell_type": "code",
      "source": [
        "stats.ttest_ind(df[df[\"Gender\"] == \"Female\"][\"Precision 70%\"].to_list(), df[df[\"Gender\"] == \"Male\"][\"Precision 70%\"].to_list())"
      ],
      "metadata": {
        "colab": {
          "base_uri": "https://localhost:8080/"
        },
        "id": "iXBn3MipyoJq",
        "outputId": "1776dc92-9a60-4098-b9db-d57950c9a47b"
      },
      "execution_count": 18,
      "outputs": [
        {
          "output_type": "execute_result",
          "data": {
            "text/plain": [
              "TtestResult(statistic=-0.08571890850290517, pvalue=0.9317345458700421, df=384.0)"
            ]
          },
          "metadata": {},
          "execution_count": 18
        }
      ]
    },
    {
      "cell_type": "code",
      "source": [
        "print(\"Gender Predictive Equality 80% : \")\n",
        "df[df[\"Gender\"] == \"Female\"][\"Precision 80%\"].mean() / df[df[\"Gender\"] == \"Male\"][\"Precision 80%\"].mean()"
      ],
      "metadata": {
        "colab": {
          "base_uri": "https://localhost:8080/"
        },
        "id": "y1NkPgrI00wu",
        "outputId": "054cda73-51fb-4990-e6a0-4519527e2627"
      },
      "execution_count": 19,
      "outputs": [
        {
          "output_type": "stream",
          "name": "stdout",
          "text": [
            "Gender Predictive Equality 80% : \n"
          ]
        },
        {
          "output_type": "execute_result",
          "data": {
            "text/plain": [
              "0.9812179641967467"
            ]
          },
          "metadata": {},
          "execution_count": 19
        }
      ]
    },
    {
      "cell_type": "code",
      "source": [
        "stats.ttest_ind(df[df[\"Gender\"] == \"Female\"][\"Precision 80%\"].to_list(), df[df[\"Gender\"] == \"Male\"][\"Precision 80%\"].to_list())"
      ],
      "metadata": {
        "colab": {
          "base_uri": "https://localhost:8080/"
        },
        "id": "8K_SD2wxyvtN",
        "outputId": "c0266698-4ed3-47ea-a17f-f1967f84d79a"
      },
      "execution_count": 20,
      "outputs": [
        {
          "output_type": "execute_result",
          "data": {
            "text/plain": [
              "TtestResult(statistic=-0.07560098785907744, pvalue=0.9397759207481591, df=384.0)"
            ]
          },
          "metadata": {},
          "execution_count": 20
        }
      ]
    },
    {
      "cell_type": "markdown",
      "source": [
        "# Ethnicity Predictive Equality"
      ],
      "metadata": {
        "id": "upVc6yQY2LNL"
      }
    },
    {
      "cell_type": "code",
      "source": [
        "print(\"Ethnicity Predictive Equality 50% : \")\n",
        "df[df[\"Ethnicity\"] != \"White\"][\"Precision 50%\"].mean() / df[df[\"Ethnicity\"] == \"White\"][\"Precision 50%\"].mean()"
      ],
      "metadata": {
        "colab": {
          "base_uri": "https://localhost:8080/"
        },
        "id": "P3za60oj2Pu1",
        "outputId": "61337c4a-8127-4360-c19d-a480a450d241"
      },
      "execution_count": 21,
      "outputs": [
        {
          "output_type": "stream",
          "name": "stdout",
          "text": [
            "Ethnicity Predictive Equality 50% : \n"
          ]
        },
        {
          "output_type": "execute_result",
          "data": {
            "text/plain": [
              "0.9692553445249512"
            ]
          },
          "metadata": {},
          "execution_count": 21
        }
      ]
    },
    {
      "cell_type": "code",
      "source": [
        "stats.ttest_ind(df[df[\"Ethnicity\"] != \"White\"][\"Precision 50%\"].to_list(), df[df[\"Ethnicity\"] == \"White\"][\"Precision 50%\"].to_list())"
      ],
      "metadata": {
        "colab": {
          "base_uri": "https://localhost:8080/"
        },
        "id": "0NUTHAvXy8H1",
        "outputId": "51fd16e1-727b-4b99-c804-e0d04374c882"
      },
      "execution_count": 22,
      "outputs": [
        {
          "output_type": "execute_result",
          "data": {
            "text/plain": [
              "TtestResult(statistic=-0.45200186284530475, pvalue=0.6515228477898861, df=384.0)"
            ]
          },
          "metadata": {},
          "execution_count": 22
        }
      ]
    },
    {
      "cell_type": "code",
      "source": [
        "print(\"Ethnicity Predictive Equality 60% : \")\n",
        "df[df[\"Ethnicity\"] != \"White\"][\"Precision 60%\"].mean() / df[df[\"Ethnicity\"] == \"White\"][\"Precision 60%\"].mean()"
      ],
      "metadata": {
        "colab": {
          "base_uri": "https://localhost:8080/"
        },
        "id": "zaBUNSLa2aCF",
        "outputId": "4d95661d-f899-4bb4-bf58-68b55ffafd68"
      },
      "execution_count": 23,
      "outputs": [
        {
          "output_type": "stream",
          "name": "stdout",
          "text": [
            "Ethnicity Predictive Equality 60% : \n"
          ]
        },
        {
          "output_type": "execute_result",
          "data": {
            "text/plain": [
              "1.037971512551934"
            ]
          },
          "metadata": {},
          "execution_count": 23
        }
      ]
    },
    {
      "cell_type": "code",
      "source": [
        "stats.ttest_ind(df[df[\"Ethnicity\"] != \"White\"][\"Precision 60%\"].to_list(), df[df[\"Ethnicity\"] == \"White\"][\"Precision 60%\"].to_list())"
      ],
      "metadata": {
        "colab": {
          "base_uri": "https://localhost:8080/"
        },
        "id": "4Y7gVrhyzIfj",
        "outputId": "bf8bb8f7-9165-4688-f648-c124ffb1ef11"
      },
      "execution_count": 24,
      "outputs": [
        {
          "output_type": "execute_result",
          "data": {
            "text/plain": [
              "TtestResult(statistic=0.3136125236885654, pvalue=0.7539856306393964, df=384.0)"
            ]
          },
          "metadata": {},
          "execution_count": 24
        }
      ]
    },
    {
      "cell_type": "code",
      "source": [
        "print(\"Ethnicity Predictive Equality 70% : \")\n",
        "df[df[\"Ethnicity\"] != \"White\"][\"Precision 70%\"].mean() / df[df[\"Ethnicity\"] == \"White\"][\"Precision 70%\"].mean()"
      ],
      "metadata": {
        "colab": {
          "base_uri": "https://localhost:8080/"
        },
        "id": "JlS_-NGd2dPk",
        "outputId": "7dcf01e3-98c6-4a1e-9ab5-ef2d72144ecd"
      },
      "execution_count": 25,
      "outputs": [
        {
          "output_type": "stream",
          "name": "stdout",
          "text": [
            "Ethnicity Predictive Equality 70% : \n"
          ]
        },
        {
          "output_type": "execute_result",
          "data": {
            "text/plain": [
              "1.163460549085716"
            ]
          },
          "metadata": {},
          "execution_count": 25
        }
      ]
    },
    {
      "cell_type": "code",
      "source": [
        "stats.ttest_ind(df[df[\"Ethnicity\"] != \"White\"][\"Precision 70%\"].to_list(), df[df[\"Ethnicity\"] == \"White\"][\"Precision 70%\"].to_list())"
      ],
      "metadata": {
        "colab": {
          "base_uri": "https://localhost:8080/"
        },
        "id": "V1TwNbnzzVRo",
        "outputId": "84e0b4e2-9044-4266-d0ae-cbce336dc217"
      },
      "execution_count": 26,
      "outputs": [
        {
          "output_type": "execute_result",
          "data": {
            "text/plain": [
              "TtestResult(statistic=0.8368513675411118, pvalue=0.4031966045223395, df=384.0)"
            ]
          },
          "metadata": {},
          "execution_count": 26
        }
      ]
    },
    {
      "cell_type": "code",
      "source": [
        "print(\"Ethnicity Predictive Equality 80% : \")\n",
        "df[df[\"Ethnicity\"] != \"White\"][\"Precision 80%\"].mean() / df[df[\"Ethnicity\"] == \"White\"][\"Precision 80%\"].mean()"
      ],
      "metadata": {
        "colab": {
          "base_uri": "https://localhost:8080/"
        },
        "id": "hBpKNb5T2h6o",
        "outputId": "ee7bb41a-2426-428e-ea76-5664a9241a3a"
      },
      "execution_count": 27,
      "outputs": [
        {
          "output_type": "stream",
          "name": "stdout",
          "text": [
            "Ethnicity Predictive Equality 80% : \n"
          ]
        },
        {
          "output_type": "execute_result",
          "data": {
            "text/plain": [
              "1.276884405210142"
            ]
          },
          "metadata": {},
          "execution_count": 27
        }
      ]
    },
    {
      "cell_type": "code",
      "source": [
        "stats.ttest_ind(df[df[\"Ethnicity\"] != \"White\"][\"Precision 80%\"].to_list(), df[df[\"Ethnicity\"] == \"White\"][\"Precision 80%\"].to_list())"
      ],
      "metadata": {
        "colab": {
          "base_uri": "https://localhost:8080/"
        },
        "id": "tLQq_DEgzdfs",
        "outputId": "88f74693-6a78-4a50-a115-775170601eb6"
      },
      "execution_count": 28,
      "outputs": [
        {
          "output_type": "execute_result",
          "data": {
            "text/plain": [
              "TtestResult(statistic=1.095887162263581, pvalue=0.2738149789115587, df=384.0)"
            ]
          },
          "metadata": {},
          "execution_count": 28
        }
      ]
    },
    {
      "cell_type": "markdown",
      "source": [
        "# Language Predictive Equality"
      ],
      "metadata": {
        "id": "ERE3H9EV6uoK"
      }
    },
    {
      "cell_type": "code",
      "source": [
        "englishCountries = [\"USA\", \"UK\", \"Ireland\", \"Canada\", \"Australia\"]"
      ],
      "metadata": {
        "id": "HMqlnEgh7yUk"
      },
      "execution_count": 29,
      "outputs": []
    },
    {
      "cell_type": "code",
      "source": [
        "non_english_precision_mean = df[~df[\"Country\"].isin(englishCountries)][\"Precision 50%\"].mean()\n",
        "english_precision_mean = df[df[\"Country\"].isin(englishCountries)][\"Precision 50%\"].mean()\n",
        "\n",
        "language_predictive_equality = non_english_precision_mean / english_precision_mean\n",
        "print(\"Language Predictive Equality 50%:\", language_predictive_equality)"
      ],
      "metadata": {
        "colab": {
          "base_uri": "https://localhost:8080/"
        },
        "id": "ZPHRY2lb-swM",
        "outputId": "c6c51833-23f2-440a-9a9b-22d8f8d8fb9f"
      },
      "execution_count": 30,
      "outputs": [
        {
          "output_type": "stream",
          "name": "stdout",
          "text": [
            "Language Predictive Equality 50%: 1.1810652611070216\n"
          ]
        }
      ]
    },
    {
      "cell_type": "code",
      "source": [
        "stats.ttest_ind(df[~df[\"Country\"].isin(englishCountries)][\"Precision 50%\"].to_list(), df[df[\"Country\"].isin(englishCountries)][\"Precision 50%\"].to_list())"
      ],
      "metadata": {
        "colab": {
          "base_uri": "https://localhost:8080/"
        },
        "id": "ADfghXfY1xMr",
        "outputId": "761185c7-ed3e-4093-c10a-2e08315e5d82"
      },
      "execution_count": 31,
      "outputs": [
        {
          "output_type": "execute_result",
          "data": {
            "text/plain": [
              "TtestResult(statistic=2.484557764425288, pvalue=0.013396533848788018, df=384.0)"
            ]
          },
          "metadata": {},
          "execution_count": 31
        }
      ]
    },
    {
      "cell_type": "code",
      "source": [
        "non_english_precision_mean = df[~df[\"Country\"].isin(englishCountries)][\"Precision 60%\"].mean()\n",
        "english_precision_mean = df[df[\"Country\"].isin(englishCountries)][\"Precision 60%\"].mean()\n",
        "\n",
        "language_predictive_equality = non_english_precision_mean / english_precision_mean\n",
        "print(\"Language Predictive Equality 60%:\", language_predictive_equality)"
      ],
      "metadata": {
        "colab": {
          "base_uri": "https://localhost:8080/"
        },
        "id": "aCvc9aKG-_3h",
        "outputId": "b2d10bc5-7d9e-4799-e200-3b3c8ce345aa"
      },
      "execution_count": 32,
      "outputs": [
        {
          "output_type": "stream",
          "name": "stdout",
          "text": [
            "Language Predictive Equality 60%: 1.29317072854034\n"
          ]
        }
      ]
    },
    {
      "cell_type": "code",
      "source": [
        "stats.ttest_ind(df[~df[\"Country\"].isin(englishCountries)][\"Precision 60%\"].to_list(), df[df[\"Country\"].isin(englishCountries)][\"Precision 60%\"].to_list())"
      ],
      "metadata": {
        "colab": {
          "base_uri": "https://localhost:8080/"
        },
        "id": "lbewcLvY2ICR",
        "outputId": "687f1509-8feb-4aa6-a81b-1e743c04a796"
      },
      "execution_count": 33,
      "outputs": [
        {
          "output_type": "execute_result",
          "data": {
            "text/plain": [
              "TtestResult(statistic=2.240863425268744, pvalue=0.025605912589960145, df=384.0)"
            ]
          },
          "metadata": {},
          "execution_count": 33
        }
      ]
    },
    {
      "cell_type": "code",
      "source": [
        "non_english_precision_mean = df[~df[\"Country\"].isin(englishCountries)][\"Precision 70%\"].mean()\n",
        "english_precision_mean = df[df[\"Country\"].isin(englishCountries)][\"Precision 70%\"].mean()\n",
        "\n",
        "language_predictive_equality = non_english_precision_mean / english_precision_mean\n",
        "print(\"Language Predictive Equality 70%:\", language_predictive_equality)"
      ],
      "metadata": {
        "colab": {
          "base_uri": "https://localhost:8080/"
        },
        "id": "uNGIVRAl_GQm",
        "outputId": "afbd7a94-6dd0-4c02-bbc4-ee9de8842c84"
      },
      "execution_count": 34,
      "outputs": [
        {
          "output_type": "stream",
          "name": "stdout",
          "text": [
            "Language Predictive Equality 70%: 1.2093553925368412\n"
          ]
        }
      ]
    },
    {
      "cell_type": "code",
      "source": [
        "stats.ttest_ind(df[~df[\"Country\"].isin(englishCountries)][\"Precision 70%\"].to_list(), df[df[\"Country\"].isin(englishCountries)][\"Precision 70%\"].to_list())"
      ],
      "metadata": {
        "colab": {
          "base_uri": "https://localhost:8080/"
        },
        "id": "WCcMmos82TFy",
        "outputId": "704d4c5e-2210-4d4d-99e3-7064489f4b2f"
      },
      "execution_count": 35,
      "outputs": [
        {
          "output_type": "execute_result",
          "data": {
            "text/plain": [
              "TtestResult(statistic=1.1005274366047946, pvalue=0.27179178231467177, df=384.0)"
            ]
          },
          "metadata": {},
          "execution_count": 35
        }
      ]
    },
    {
      "cell_type": "code",
      "source": [
        "non_english_precision_mean = df[~df[\"Country\"].isin(englishCountries)][\"Precision 80%\"].mean()\n",
        "english_precision_mean = df[df[\"Country\"].isin(englishCountries)][\"Precision 80%\"].mean()\n",
        "\n",
        "language_predictive_equality = non_english_precision_mean / english_precision_mean\n",
        "print(\"Language Predictive Equality 80%:\", language_predictive_equality)"
      ],
      "metadata": {
        "colab": {
          "base_uri": "https://localhost:8080/"
        },
        "id": "riH-nZ3M_MaH",
        "outputId": "d34c18a5-2ad9-4995-d751-2a9fdc309344"
      },
      "execution_count": 36,
      "outputs": [
        {
          "output_type": "stream",
          "name": "stdout",
          "text": [
            "Language Predictive Equality 80%: 1.0760403514437504\n"
          ]
        }
      ]
    },
    {
      "cell_type": "code",
      "source": [
        "stats.ttest_ind(df[~df[\"Country\"].isin(englishCountries)][\"Precision 80%\"].to_list(), df[df[\"Country\"].isin(englishCountries)][\"Precision 80%\"].to_list())"
      ],
      "metadata": {
        "id": "Vjghg0yf2Yvu",
        "outputId": "510ee050-1261-4e6a-d717-3ef3af709828",
        "colab": {
          "base_uri": "https://localhost:8080/"
        }
      },
      "execution_count": 37,
      "outputs": [
        {
          "output_type": "execute_result",
          "data": {
            "text/plain": [
              "TtestResult(statistic=0.34872474413404464, pvalue=0.7274870875565431, df=384.0)"
            ]
          },
          "metadata": {},
          "execution_count": 37
        }
      ]
    }
  ]
}