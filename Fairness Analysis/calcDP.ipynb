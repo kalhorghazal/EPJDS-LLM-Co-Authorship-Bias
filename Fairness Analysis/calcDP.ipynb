{
  "nbformat": 4,
  "nbformat_minor": 0,
  "metadata": {
    "colab": {
      "provenance": []
    },
    "kernelspec": {
      "name": "python3",
      "display_name": "Python 3"
    },
    "language_info": {
      "name": "python"
    }
  },
  "cells": [
    {
      "cell_type": "code",
      "execution_count": 1,
      "metadata": {
        "id": "JKdK3CNAvNxs"
      },
      "outputs": [],
      "source": [
        "!cp \"/content/drive/MyDrive/Authorship Bias Paper/Data/matchData.csv\" ."
      ]
    },
    {
      "cell_type": "code",
      "source": [
        "import pandas as pd\n",
        "import numpy as np\n",
        "from scipy import stats"
      ],
      "metadata": {
        "id": "xfqqJsm6yHp5"
      },
      "execution_count": 2,
      "outputs": []
    },
    {
      "cell_type": "code",
      "source": [
        "df = pd.read_csv(\"matchData.csv\")\n",
        "df.columns"
      ],
      "metadata": {
        "colab": {
          "base_uri": "https://localhost:8080/"
        },
        "id": "ToEom3HLyLRC",
        "outputId": "95a05fd5-ad69-4c04-cc49-c75960fe7116"
      },
      "execution_count": 3,
      "outputs": [
        {
          "output_type": "execute_result",
          "data": {
            "text/plain": [
              "Index(['Name', 'Google Scholar ID', 'Gender', 'Ethnicity', 'Affiliation',\n",
              "       'Country', 'h-index', 'Citation count',\n",
              "       'Co-authors’ names (Google Scholar)',\n",
              "       'Co-authors’ genders (Google Scholar)',\n",
              "       'Co-authors’ ethnicity (Google Scholar)', 'Co-authors’ names (OpenAI)',\n",
              "       'Co-authors’ genders (OpenAI)', 'Co-authors’ ethnicity (OpenAI)',\n",
              "       'Match Count 50%', 'Match Count 60%', 'Match Count 70%',\n",
              "       'Match Count 80%'],\n",
              "      dtype='object')"
            ]
          },
          "metadata": {},
          "execution_count": 3
        }
      ]
    },
    {
      "cell_type": "markdown",
      "source": [
        "# Recall"
      ],
      "metadata": {
        "id": "bbEhzwbH8AVU"
      }
    },
    {
      "cell_type": "code",
      "source": [
        "df[\"Recall 50%\"] = 0\n",
        "df[\"Recall 60%\"] = 0\n",
        "df[\"Recall 70%\"] = 0\n",
        "df[\"Recall 80%\"] = 0"
      ],
      "metadata": {
        "id": "CiOQbrxtybyp"
      },
      "execution_count": 4,
      "outputs": []
    },
    {
      "cell_type": "code",
      "source": [
        "for index, row in df.iterrows():\n",
        "  df.at[index, \"Recall 50%\"] = row[\"Match Count 50%\"] / len(row[\"Co-authors’ names (Google Scholar)\"].split(\", \"))\n",
        "  df.at[index, \"Recall 60%\"] = row[\"Match Count 60%\"] / len(row[\"Co-authors’ names (Google Scholar)\"].split(\", \"))\n",
        "  df.at[index, \"Recall 70%\"] = row[\"Match Count 70%\"] / len(row[\"Co-authors’ names (Google Scholar)\"].split(\", \"))\n",
        "  df.at[index, \"Recall 80%\"] = row[\"Match Count 80%\"] / len(row[\"Co-authors’ names (Google Scholar)\"].split(\", \"))"
      ],
      "metadata": {
        "id": "KqZMgPK-ynys"
      },
      "execution_count": 5,
      "outputs": []
    },
    {
      "cell_type": "markdown",
      "source": [
        "# Completeness Analysis"
      ],
      "metadata": {
        "id": "mqs290oq0lPd"
      }
    },
    {
      "cell_type": "code",
      "source": [
        "std = np.std(df[\"Recall 50%\"].to_list())\n",
        "mean = np.mean(df[\"Recall 50%\"].to_list())\n",
        "print(\"Mean 50% =\", mean, \", std =\", std)"
      ],
      "metadata": {
        "id": "j071oknllmoS",
        "colab": {
          "base_uri": "https://localhost:8080/"
        },
        "outputId": "fefddba8-38b2-4633-8810-0099fc3afd56"
      },
      "execution_count": 6,
      "outputs": [
        {
          "output_type": "stream",
          "name": "stdout",
          "text": [
            "Mean 50% = 0.21562938490554856 , std = 0.17349450743421352\n"
          ]
        }
      ]
    },
    {
      "cell_type": "code",
      "source": [
        "std = np.std(df[\"Recall 60%\"].to_list())\n",
        "mean = np.mean(df[\"Recall 60%\"].to_list())\n",
        "print(\"Mean 60% =\", mean, \", std =\", std)"
      ],
      "metadata": {
        "id": "6ljQOsvql_R7",
        "colab": {
          "base_uri": "https://localhost:8080/"
        },
        "outputId": "8666feb8-f0cc-44e0-fc47-11bad4b4f459"
      },
      "execution_count": 7,
      "outputs": [
        {
          "output_type": "stream",
          "name": "stdout",
          "text": [
            "Mean 60% = 0.0904793953974603 , std = 0.1203440225568628\n"
          ]
        }
      ]
    },
    {
      "cell_type": "code",
      "source": [
        "std = np.std(df[\"Recall 70%\"].to_list())\n",
        "mean = np.mean(df[\"Recall 70%\"].to_list())\n",
        "print(\"Mean 70% =\", mean, \", std =\", std)"
      ],
      "metadata": {
        "id": "2HO4Qp7VmCFE",
        "colab": {
          "base_uri": "https://localhost:8080/"
        },
        "outputId": "55fc0a45-83e5-41ab-d1d8-f4af51a62fba"
      },
      "execution_count": 8,
      "outputs": [
        {
          "output_type": "stream",
          "name": "stdout",
          "text": [
            "Mean 70% = 0.0394481760910492 , std = 0.07899367859113232\n"
          ]
        }
      ]
    },
    {
      "cell_type": "code",
      "source": [
        "std = np.std(df[\"Recall 80%\"].to_list())\n",
        "mean = np.mean(df[\"Recall 80%\"].to_list())\n",
        "print(\"Mean 80% =\", mean, \", std =\", std)"
      ],
      "metadata": {
        "id": "7YwLe1B9mFsp",
        "colab": {
          "base_uri": "https://localhost:8080/"
        },
        "outputId": "eac72107-1c9c-4841-ed19-641bd9ea6c0c"
      },
      "execution_count": 9,
      "outputs": [
        {
          "output_type": "stream",
          "name": "stdout",
          "text": [
            "Mean 80% = 0.02878124471718663 , std = 0.07446269988682805\n"
          ]
        }
      ]
    },
    {
      "cell_type": "markdown",
      "source": [
        "# Gender Demographic Parity"
      ],
      "metadata": {
        "id": "qMrI5jMz0w8n"
      }
    },
    {
      "cell_type": "code",
      "source": [
        "print(\"Gender Demographic Parity 50% : \")\n",
        "df[df[\"Gender\"] == \"Female\"][\"Recall 50%\"].mean() / df[df[\"Gender\"] == \"Male\"][\"Recall 50%\"].mean()"
      ],
      "metadata": {
        "colab": {
          "base_uri": "https://localhost:8080/"
        },
        "id": "i_-odFgTziE7",
        "outputId": "bb9f00a5-5441-42f0-f80a-366711bd24d9"
      },
      "execution_count": 10,
      "outputs": [
        {
          "output_type": "stream",
          "name": "stdout",
          "text": [
            "Gender Demographic Parity 50% : \n"
          ]
        },
        {
          "output_type": "execute_result",
          "data": {
            "text/plain": [
              "0.8826578285845269"
            ]
          },
          "metadata": {},
          "execution_count": 10
        }
      ]
    },
    {
      "cell_type": "code",
      "source": [
        "stats.ttest_ind(df[df[\"Gender\"] == \"Female\"][\"Recall 50%\"].to_list(), df[df[\"Gender\"] == \"Male\"][\"Recall 50%\"].to_list())"
      ],
      "metadata": {
        "colab": {
          "base_uri": "https://localhost:8080/"
        },
        "id": "J1JJtGp6t55J",
        "outputId": "e2237626-bef1-4c01-d86d-bd0a6618c776"
      },
      "execution_count": 11,
      "outputs": [
        {
          "output_type": "execute_result",
          "data": {
            "text/plain": [
              "TtestResult(statistic=-1.239672988398852, pvalue=0.21585342677274083, df=384.0)"
            ]
          },
          "metadata": {},
          "execution_count": 11
        }
      ]
    },
    {
      "cell_type": "code",
      "source": [
        "print(\"Gender Demographic Parity 60% : \")\n",
        "df[df[\"Gender\"] == \"Female\"][\"Recall 60%\"].mean() / df[df[\"Gender\"] == \"Male\"][\"Recall 60%\"].mean()"
      ],
      "metadata": {
        "colab": {
          "base_uri": "https://localhost:8080/"
        },
        "id": "ZVGUE12u0KlY",
        "outputId": "a3d481af-637f-467a-b64f-dd7d5b3ae158"
      },
      "execution_count": 12,
      "outputs": [
        {
          "output_type": "stream",
          "name": "stdout",
          "text": [
            "Gender Demographic Parity 60% : \n"
          ]
        },
        {
          "output_type": "execute_result",
          "data": {
            "text/plain": [
              "0.8125052555163513"
            ]
          },
          "metadata": {},
          "execution_count": 12
        }
      ]
    },
    {
      "cell_type": "code",
      "source": [
        "stats.ttest_ind(df[df[\"Gender\"] == \"Female\"][\"Recall 60%\"].to_list(), df[df[\"Gender\"] == \"Male\"][\"Recall 60%\"].to_list())"
      ],
      "metadata": {
        "colab": {
          "base_uri": "https://localhost:8080/"
        },
        "id": "yPdyoeniuuLo",
        "outputId": "cb7bf6f8-01a9-4676-b9c3-c6b46d20169f"
      },
      "execution_count": 13,
      "outputs": [
        {
          "output_type": "execute_result",
          "data": {
            "text/plain": [
              "TtestResult(statistic=-1.2184183185555322, pvalue=0.22381308425170457, df=384.0)"
            ]
          },
          "metadata": {},
          "execution_count": 13
        }
      ]
    },
    {
      "cell_type": "code",
      "source": [
        "print(\"Gender Demographic Parity 70% : \")\n",
        "df[df[\"Gender\"] == \"Female\"][\"Recall 70%\"].mean() / df[df[\"Gender\"] == \"Male\"][\"Recall 70%\"].mean()"
      ],
      "metadata": {
        "colab": {
          "base_uri": "https://localhost:8080/"
        },
        "id": "fxgpFWbz0vac",
        "outputId": "19bc2373-e725-4d9a-8584-1680ef0b61c8"
      },
      "execution_count": 14,
      "outputs": [
        {
          "output_type": "stream",
          "name": "stdout",
          "text": [
            "Gender Demographic Parity 70% : \n"
          ]
        },
        {
          "output_type": "execute_result",
          "data": {
            "text/plain": [
              "0.9644876864785767"
            ]
          },
          "metadata": {},
          "execution_count": 14
        }
      ]
    },
    {
      "cell_type": "code",
      "source": [
        "stats.ttest_ind(df[df[\"Gender\"] == \"Female\"][\"Recall 70%\"].to_list(), df[df[\"Gender\"] == \"Male\"][\"Recall 70%\"].to_list())"
      ],
      "metadata": {
        "colab": {
          "base_uri": "https://localhost:8080/"
        },
        "id": "Ceh-zNg9u7jL",
        "outputId": "190dde00-fca2-4a23-da0d-6280f044b2b3"
      },
      "execution_count": 15,
      "outputs": [
        {
          "output_type": "execute_result",
          "data": {
            "text/plain": [
              "TtestResult(statistic=-0.14758699201385994, pvalue=0.8827461822094615, df=384.0)"
            ]
          },
          "metadata": {},
          "execution_count": 15
        }
      ]
    },
    {
      "cell_type": "code",
      "source": [
        "print(\"Gender Demographic Parity 80% : \")\n",
        "df[df[\"Gender\"] == \"Female\"][\"Recall 80%\"].mean() / df[df[\"Gender\"] == \"Male\"][\"Recall 80%\"].mean()"
      ],
      "metadata": {
        "colab": {
          "base_uri": "https://localhost:8080/"
        },
        "id": "y1NkPgrI00wu",
        "outputId": "be666f0e-83c3-4419-fc94-ae60439c0e26"
      },
      "execution_count": 16,
      "outputs": [
        {
          "output_type": "stream",
          "name": "stdout",
          "text": [
            "Gender Demographic Parity 80% : \n"
          ]
        },
        {
          "output_type": "execute_result",
          "data": {
            "text/plain": [
              "1.0478350621766754"
            ]
          },
          "metadata": {},
          "execution_count": 16
        }
      ]
    },
    {
      "cell_type": "code",
      "source": [
        "stats.ttest_ind(df[df[\"Gender\"] == \"Female\"][\"Recall 80%\"].to_list(), df[df[\"Gender\"] == \"Male\"][\"Recall 80%\"].to_list())"
      ],
      "metadata": {
        "colab": {
          "base_uri": "https://localhost:8080/"
        },
        "id": "u2OyO3SMvX3S",
        "outputId": "6ab0ba37-8cbe-40ad-da4d-975842bedce5"
      },
      "execution_count": 17,
      "outputs": [
        {
          "output_type": "execute_result",
          "data": {
            "text/plain": [
              "TtestResult(statistic=0.15094467673468154, pvalue=0.8800986181884461, df=384.0)"
            ]
          },
          "metadata": {},
          "execution_count": 17
        }
      ]
    },
    {
      "cell_type": "markdown",
      "source": [
        "# Ethnicity Demographic Parity"
      ],
      "metadata": {
        "id": "z_mbwAzl1JnI"
      }
    },
    {
      "cell_type": "code",
      "source": [
        "print(\"Ethnicity Demographic Parity 50% : \")\n",
        "df[df[\"Ethnicity\"] != \"White\"][\"Recall 50%\"].mean() / df[df[\"Ethnicity\"] == \"White\"][\"Recall 50%\"].mean()"
      ],
      "metadata": {
        "colab": {
          "base_uri": "https://localhost:8080/"
        },
        "id": "P3za60oj2Pu1",
        "outputId": "a0ed9f98-df1b-4abe-a3ce-3512471cd8b1"
      },
      "execution_count": 18,
      "outputs": [
        {
          "output_type": "stream",
          "name": "stdout",
          "text": [
            "Ethnicity Demographic Parity 50% : \n"
          ]
        },
        {
          "output_type": "execute_result",
          "data": {
            "text/plain": [
              "1.0262392344302815"
            ]
          },
          "metadata": {},
          "execution_count": 18
        }
      ]
    },
    {
      "cell_type": "code",
      "source": [
        "stats.ttest_ind(df[df[\"Ethnicity\"] != \"White\"][\"Recall 50%\"].to_list(), df[df[\"Ethnicity\"] == \"White\"][\"Recall 50%\"].to_list())"
      ],
      "metadata": {
        "colab": {
          "base_uri": "https://localhost:8080/"
        },
        "id": "hLGz_47uwKCh",
        "outputId": "3bc1cf48-9e04-4328-e0a1-a7672139b325"
      },
      "execution_count": 19,
      "outputs": [
        {
          "output_type": "execute_result",
          "data": {
            "text/plain": [
              "TtestResult(statistic=0.3058115280682541, pvalue=0.7599138685295185, df=384.0)"
            ]
          },
          "metadata": {},
          "execution_count": 19
        }
      ]
    },
    {
      "cell_type": "code",
      "source": [
        "print(\"Ethnicity Demographic Parity 60% : \")\n",
        "df[df[\"Ethnicity\"] != \"White\"][\"Recall 60%\"].mean() / df[df[\"Ethnicity\"] == \"White\"][\"Recall 60%\"].mean()"
      ],
      "metadata": {
        "colab": {
          "base_uri": "https://localhost:8080/"
        },
        "id": "zaBUNSLa2aCF",
        "outputId": "085ea84b-6446-45ab-8909-8cf6ce73e7ea"
      },
      "execution_count": 20,
      "outputs": [
        {
          "output_type": "stream",
          "name": "stdout",
          "text": [
            "Ethnicity Demographic Parity 60% : \n"
          ]
        },
        {
          "output_type": "execute_result",
          "data": {
            "text/plain": [
              "1.1715257050351147"
            ]
          },
          "metadata": {},
          "execution_count": 20
        }
      ]
    },
    {
      "cell_type": "code",
      "source": [
        "stats.ttest_ind(df[df[\"Ethnicity\"] != \"White\"][\"Recall 60%\"].to_list(), df[df[\"Ethnicity\"] == \"White\"][\"Recall 60%\"].to_list())"
      ],
      "metadata": {
        "colab": {
          "base_uri": "https://localhost:8080/"
        },
        "id": "U0ia7fJNwhlp",
        "outputId": "80e5a295-6af3-4883-9270-2da922115fb3"
      },
      "execution_count": 21,
      "outputs": [
        {
          "output_type": "execute_result",
          "data": {
            "text/plain": [
              "TtestResult(statistic=1.1129887140675372, pvalue=0.26640950934597923, df=384.0)"
            ]
          },
          "metadata": {},
          "execution_count": 21
        }
      ]
    },
    {
      "cell_type": "code",
      "source": [
        "print(\"Ethnicity Demographic Parity 70% : \")\n",
        "df[df[\"Ethnicity\"] != \"White\"][\"Recall 70%\"].mean() / df[df[\"Ethnicity\"] == \"White\"][\"Recall 70%\"].mean()"
      ],
      "metadata": {
        "colab": {
          "base_uri": "https://localhost:8080/"
        },
        "id": "JlS_-NGd2dPk",
        "outputId": "c8510bb2-2f06-4a56-9c3c-22b5f7e1d705"
      },
      "execution_count": 22,
      "outputs": [
        {
          "output_type": "stream",
          "name": "stdout",
          "text": [
            "Ethnicity Demographic Parity 70% : \n"
          ]
        },
        {
          "output_type": "execute_result",
          "data": {
            "text/plain": [
              "1.3338573310917738"
            ]
          },
          "metadata": {},
          "execution_count": 22
        }
      ]
    },
    {
      "cell_type": "code",
      "source": [
        "stats.ttest_ind(df[df[\"Ethnicity\"] != \"white\"][\"Recall 70%\"].to_list(), df[df[\"Ethnicity\"] == \"white\"][\"Recall 70%\"].to_list())"
      ],
      "metadata": {
        "colab": {
          "base_uri": "https://localhost:8080/"
        },
        "id": "OhoK6-32worF",
        "outputId": "a2e80227-82be-45e7-abab-97ad6ad7d169"
      },
      "execution_count": 23,
      "outputs": [
        {
          "output_type": "execute_result",
          "data": {
            "text/plain": [
              "TtestResult(statistic=nan, pvalue=nan, df=nan)"
            ]
          },
          "metadata": {},
          "execution_count": 23
        }
      ]
    },
    {
      "cell_type": "code",
      "source": [
        "print(\"Ethnicity Demographic Parity 80% : \")\n",
        "df[df[\"Ethnicity\"] != \"White\"][\"Recall 80%\"].mean() / df[df[\"Ethnicity\"] == \"White\"][\"Recall 80%\"].mean()"
      ],
      "metadata": {
        "colab": {
          "base_uri": "https://localhost:8080/"
        },
        "id": "hBpKNb5T2h6o",
        "outputId": "f6275482-a275-4ada-9917-6c61d556d0e1"
      },
      "execution_count": 24,
      "outputs": [
        {
          "output_type": "stream",
          "name": "stdout",
          "text": [
            "Ethnicity Demographic Parity 80% : \n"
          ]
        },
        {
          "output_type": "execute_result",
          "data": {
            "text/plain": [
              "1.8378214542555402"
            ]
          },
          "metadata": {},
          "execution_count": 24
        }
      ]
    },
    {
      "cell_type": "code",
      "source": [
        "stats.ttest_ind(df[df[\"Ethnicity\"] != \"White\"][\"Recall 80%\"].to_list(), df[df[\"Ethnicity\"] == \"White\"][\"Recall 80%\"].to_list())"
      ],
      "metadata": {
        "colab": {
          "base_uri": "https://localhost:8080/"
        },
        "id": "KitQ_qUvw0s7",
        "outputId": "d595d7e1-62cb-44cc-e67b-57a4eac1b2ee"
      },
      "execution_count": 25,
      "outputs": [
        {
          "output_type": "execute_result",
          "data": {
            "text/plain": [
              "TtestResult(statistic=2.045534005859282, pvalue=0.04148317958939064, df=384.0)"
            ]
          },
          "metadata": {},
          "execution_count": 25
        }
      ]
    },
    {
      "cell_type": "markdown",
      "source": [
        "# Language Demographic Parity"
      ],
      "metadata": {
        "id": "ELEeV4Wm1RYG"
      }
    },
    {
      "cell_type": "code",
      "source": [
        "englishCountries = [\"USA\", \"UK\", \"Ireland\", \"Canada\", \"Australia\"]"
      ],
      "metadata": {
        "id": "HMqlnEgh7yUk"
      },
      "execution_count": 26,
      "outputs": []
    },
    {
      "cell_type": "code",
      "source": [
        "non_english_recall_mean = df[~df[\"Country\"].isin(englishCountries)][\"Recall 50%\"].mean()\n",
        "english_recall_mean = df[df[\"Country\"].isin(englishCountries)][\"Recall 50%\"].mean()\n",
        "\n",
        "language_demographic_parity = non_english_recall_mean / english_recall_mean\n",
        "print(\"Language Demographic Parity 50%:\", language_demographic_parity)"
      ],
      "metadata": {
        "colab": {
          "base_uri": "https://localhost:8080/"
        },
        "id": "ZPHRY2lb-swM",
        "outputId": "dc9c7bdc-b3ba-4b68-9d2d-d61c5f41fea3"
      },
      "execution_count": 27,
      "outputs": [
        {
          "output_type": "stream",
          "name": "stdout",
          "text": [
            "Language Demographic Parity 50%: 1.071388784941061\n"
          ]
        }
      ]
    },
    {
      "cell_type": "code",
      "source": [
        "stats.ttest_ind(df[~df[\"Country\"].isin(englishCountries)][\"Recall 50%\"].to_list(), df[df[\"Country\"].isin(englishCountries)][\"Recall 50%\"].to_list())"
      ],
      "metadata": {
        "colab": {
          "base_uri": "https://localhost:8080/"
        },
        "id": "DVGG9hTaxPK3",
        "outputId": "37effeca-3a53-4bb9-eb77-8fc21efd778a"
      },
      "execution_count": 28,
      "outputs": [
        {
          "output_type": "execute_result",
          "data": {
            "text/plain": [
              "TtestResult(statistic=0.8404958136121412, pvalue=0.4011534768227186, df=384.0)"
            ]
          },
          "metadata": {},
          "execution_count": 28
        }
      ]
    },
    {
      "cell_type": "code",
      "source": [
        "non_english_recall_mean = df[~df[\"Country\"].isin(englishCountries)][\"Recall 60%\"].mean()\n",
        "english_recall_mean = df[df[\"Country\"].isin(englishCountries)][\"Recall 60%\"].mean()\n",
        "\n",
        "language_demographic_parity = non_english_recall_mean / english_recall_mean\n",
        "print(\"Language Demographic Parity 60%:\", language_demographic_parity)"
      ],
      "metadata": {
        "colab": {
          "base_uri": "https://localhost:8080/"
        },
        "id": "aCvc9aKG-_3h",
        "outputId": "8e40f67f-354c-408f-ccaf-27bc6c7f78e6"
      },
      "execution_count": 29,
      "outputs": [
        {
          "output_type": "stream",
          "name": "stdout",
          "text": [
            "Language Demographic Parity 60%: 1.1176779558818064\n"
          ]
        }
      ]
    },
    {
      "cell_type": "code",
      "source": [
        "stats.ttest_ind(df[~df[\"Country\"].isin(englishCountries)][\"Recall 60%\"].to_list(), df[df[\"Country\"].isin(englishCountries)][\"Recall 60%\"].to_list())"
      ],
      "metadata": {
        "colab": {
          "base_uri": "https://localhost:8080/"
        },
        "id": "LSbDjGUMxmH1",
        "outputId": "36900d0a-c8b0-4b8e-f83f-6dcbf2defc52"
      },
      "execution_count": 30,
      "outputs": [
        {
          "output_type": "execute_result",
          "data": {
            "text/plain": [
              "TtestResult(statistic=0.8200280841801794, pvalue=0.41270880331180493, df=384.0)"
            ]
          },
          "metadata": {},
          "execution_count": 30
        }
      ]
    },
    {
      "cell_type": "code",
      "source": [
        "non_english_recall_mean = df[~df[\"Country\"].isin(englishCountries)][\"Recall 70%\"].mean()\n",
        "english_recall_mean = df[df[\"Country\"].isin(englishCountries)][\"Recall 70%\"].mean()\n",
        "\n",
        "language_demographic_parity = non_english_recall_mean / english_recall_mean\n",
        "print(\"Language Demographic Parity 70%:\", language_demographic_parity)"
      ],
      "metadata": {
        "colab": {
          "base_uri": "https://localhost:8080/"
        },
        "id": "uNGIVRAl_GQm",
        "outputId": "bd29e8d2-516f-459c-fd4e-8391642b4826"
      },
      "execution_count": 31,
      "outputs": [
        {
          "output_type": "stream",
          "name": "stdout",
          "text": [
            "Language Demographic Parity 70%: 1.0366393200778532\n"
          ]
        }
      ]
    },
    {
      "cell_type": "code",
      "source": [
        "stats.ttest_ind(df[~df[\"Country\"].isin(englishCountries)][\"Recall 70%\"].to_list(), df[df[\"Country\"].isin(englishCountries)][\"Recall 70%\"].to_list())"
      ],
      "metadata": {
        "colab": {
          "base_uri": "https://localhost:8080/"
        },
        "id": "vHBQwKZQxs2n",
        "outputId": "e956b75a-d056-4aa7-83bd-531cb078eff5"
      },
      "execution_count": 32,
      "outputs": [
        {
          "output_type": "execute_result",
          "data": {
            "text/plain": [
              "TtestResult(statistic=0.17608404473523215, pvalue=0.8603207377852939, df=384.0)"
            ]
          },
          "metadata": {},
          "execution_count": 32
        }
      ]
    },
    {
      "cell_type": "code",
      "source": [
        "non_english_recall_mean = df[~df[\"Country\"].isin(englishCountries)][\"Recall 80%\"].mean()\n",
        "english_recall_mean = df[df[\"Country\"].isin(englishCountries)][\"Recall 80%\"].mean()\n",
        "\n",
        "language_demographic_parity = non_english_recall_mean / english_recall_mean\n",
        "print(\"Language Demographic Parity 80%:\", language_demographic_parity)"
      ],
      "metadata": {
        "colab": {
          "base_uri": "https://localhost:8080/"
        },
        "id": "riH-nZ3M_MaH",
        "outputId": "845c9302-8d1f-4686-9b1a-efbb1ef79323"
      },
      "execution_count": 33,
      "outputs": [
        {
          "output_type": "stream",
          "name": "stdout",
          "text": [
            "Language Demographic Parity 80%: 0.9240117740026397\n"
          ]
        }
      ]
    },
    {
      "cell_type": "code",
      "source": [
        "stats.ttest_ind(df[~df[\"Country\"].isin(englishCountries)][\"Recall 80%\"].to_list(), df[df[\"Country\"].isin(englishCountries)][\"Recall 80%\"].to_list())"
      ],
      "metadata": {
        "colab": {
          "base_uri": "https://localhost:8080/"
        },
        "id": "boG-5eA8xy0J",
        "outputId": "2e2759e2-aee8-4696-c687-febc0b61d9ce"
      },
      "execution_count": 34,
      "outputs": [
        {
          "output_type": "execute_result",
          "data": {
            "text/plain": [
              "TtestResult(statistic=-0.2989554757790067, pvalue=0.7651357414802812, df=384.0)"
            ]
          },
          "metadata": {},
          "execution_count": 34
        }
      ]
    }
  ]
}