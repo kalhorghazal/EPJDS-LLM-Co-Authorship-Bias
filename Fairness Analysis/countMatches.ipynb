{
  "cells": [
    {
      "cell_type": "code",
      "execution_count": 1,
      "metadata": {
        "id": "eKMuBxZ7-bYt"
      },
      "outputs": [],
      "source": [
        "!cp \"/content/drive/MyDrive/Authorship Bias Paper/Data/finalData.csv\" ."
      ]
    },
    {
      "cell_type": "code",
      "execution_count": 2,
      "metadata": {
        "colab": {
          "base_uri": "https://localhost:8080/"
        },
        "id": "6w1HWezz_cyo",
        "outputId": "c21fb181-15af-4987-f344-e2480c507ceb"
      },
      "outputs": [
        {
          "output_type": "stream",
          "name": "stdout",
          "text": [
            "Collecting fuzzywuzzy\n",
            "  Downloading fuzzywuzzy-0.18.0-py2.py3-none-any.whl (18 kB)\n",
            "Installing collected packages: fuzzywuzzy\n",
            "Successfully installed fuzzywuzzy-0.18.0\n"
          ]
        }
      ],
      "source": [
        "!pip install fuzzywuzzy"
      ]
    },
    {
      "cell_type": "code",
      "execution_count": 3,
      "metadata": {
        "id": "Tm9hzDIO_dqF",
        "colab": {
          "base_uri": "https://localhost:8080/"
        },
        "outputId": "8fb67d17-26bb-400d-f90c-207679035230"
      },
      "outputs": [
        {
          "output_type": "stream",
          "name": "stderr",
          "text": [
            "/usr/local/lib/python3.10/dist-packages/fuzzywuzzy/fuzz.py:11: UserWarning: Using slow pure-python SequenceMatcher. Install python-Levenshtein to remove this warning\n",
            "  warnings.warn('Using slow pure-python SequenceMatcher. Install python-Levenshtein to remove this warning')\n"
          ]
        }
      ],
      "source": [
        "from fuzzywuzzy import fuzz\n",
        "from fuzzywuzzy import process\n",
        "import pandas as pd"
      ]
    },
    {
      "cell_type": "code",
      "execution_count": 4,
      "metadata": {
        "id": "H-JcrJF9_jsE"
      },
      "outputs": [],
      "source": [
        "def extractLastNames(arr2):\n",
        "    arr3=[]\n",
        "    for i in range(0,len(arr2)):\n",
        "            val=arr2[i].strip().lower().split(\" \")\n",
        "            arr3.append(val[-1].strip())\n",
        "    return arr3"
      ]
    },
    {
      "cell_type": "code",
      "execution_count": 5,
      "metadata": {
        "id": "nD6cC3tm_nBn"
      },
      "outputs": [],
      "source": [
        "similarity = [50, 60, 70, 80]"
      ]
    },
    {
      "cell_type": "code",
      "execution_count": 6,
      "metadata": {
        "colab": {
          "base_uri": "https://localhost:8080/"
        },
        "id": "KIZEHRH2_xBU",
        "outputId": "8fd761e2-a936-4a68-d530-42219e119583"
      },
      "outputs": [
        {
          "output_type": "execute_result",
          "data": {
            "text/plain": [
              "Index(['Name', 'Google Scholar ID', 'Gender', 'Ethnicity', 'Affiliation',\n",
              "       'Country', 'h-index', 'Citation count',\n",
              "       'Co-authors’ names (Google Scholar)',\n",
              "       'Co-authors’ genders (Google Scholar)',\n",
              "       'Co-authors’ ethnicity (Google Scholar)', 'Co-authors’ names (OpenAI)',\n",
              "       'Co-authors’ genders (OpenAI)', 'Co-authors’ ethnicity (OpenAI)'],\n",
              "      dtype='object')"
            ]
          },
          "metadata": {},
          "execution_count": 6
        }
      ],
      "source": [
        "df = pd.read_csv(\"finalData.csv\")\n",
        "df.columns"
      ]
    },
    {
      "cell_type": "code",
      "execution_count": 7,
      "metadata": {
        "id": "wOGNyx8MBXY1"
      },
      "outputs": [],
      "source": [
        "df[\"Match Count 50%\"] = 0\n",
        "df[\"Match Count 60%\"] = 0\n",
        "df[\"Match Count 70%\"] = 0\n",
        "df[\"Match Count 80%\"] = 0"
      ]
    },
    {
      "cell_type": "code",
      "execution_count": 8,
      "metadata": {
        "id": "t4ffYriM_vJh"
      },
      "outputs": [],
      "source": [
        "for limit in similarity:\n",
        "  k=0\n",
        "  i = 0\n",
        "  arr1 = arr2 = arr3 = arr4 = []\n",
        "\n",
        "  while k < len(df):\n",
        "          try:\n",
        "              arrAI = df['Co-authors’ names (OpenAI)'][k].split(', ')\n",
        "              arrGS = df['Co-authors’ names (Google Scholar)'][k].split(', ')\n",
        "          except:\n",
        "              arrAI = arrGS = []\n",
        "          arr1 = extractLastNames(arrAI)\n",
        "          arr2 = extractLastNames(arrGS)\n",
        "          i = 0\n",
        "          matches = []\n",
        "          count = 0\n",
        "          maxLengthA1 = len(arr1)\n",
        "          while i < maxLengthA1:\n",
        "              j=0\n",
        "              maxFuzz = 0\n",
        "              index = 0\n",
        "              foundMatch = False\n",
        "              maxLengthA2 = len(arr2)\n",
        "              while j < maxLengthA2:\n",
        "                  currentFuzz = fuzz.ratio(arr1[i],arr2[j])\n",
        "                  if currentFuzz >= limit:\n",
        "                      if currentFuzz > maxFuzz:\n",
        "                          maxFuzz = currentFuzz\n",
        "                          index = j\n",
        "                          foundMatch = True\n",
        "                  j=j+1\n",
        "              if foundMatch:\n",
        "                  matches.append(arr2[index].lower().strip())\n",
        "                  count = count + 1\n",
        "                  del arr2[index]\n",
        "              i=i+1\n",
        "          colName = \"Match Count \" + str(limit) + \"%\"\n",
        "          df.at[k, colName] = count\n",
        "          k = k + 1"
      ]
    },
    {
      "cell_type": "code",
      "source": [
        "df.to_csv(\"matchData.csv\", index = False)"
      ],
      "metadata": {
        "id": "SC16Gk1ltrPr"
      },
      "execution_count": 9,
      "outputs": []
    },
    {
      "cell_type": "code",
      "source": [
        "!mv \"/content/matchData.csv\" \"/content/drive/MyDrive/Authorship Bias Paper/Data/matchData.csv\""
      ],
      "metadata": {
        "id": "eQZVNQJItyOC"
      },
      "execution_count": 10,
      "outputs": []
    }
  ],
  "metadata": {
    "colab": {
      "provenance": []
    },
    "kernelspec": {
      "display_name": "Python 3",
      "name": "python3"
    },
    "language_info": {
      "name": "python"
    }
  },
  "nbformat": 4,
  "nbformat_minor": 0
}