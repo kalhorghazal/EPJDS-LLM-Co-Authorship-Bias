{
  "nbformat": 4,
  "nbformat_minor": 0,
  "metadata": {
    "colab": {
      "provenance": []
    },
    "kernelspec": {
      "name": "python3",
      "display_name": "Python 3"
    },
    "language_info": {
      "name": "python"
    }
  },
  "cells": [
    {
      "cell_type": "markdown",
      "source": [
        "**Extract Data such as Author Name,\tGoogle Scholar ID,\tCo-Author Count,\th-index,\tCited by,\tAffiliation,\tCo-Authors IDs and\tCo-Authors Names using Scholary package.**\n",
        "\n",
        "---\n",
        "\n"
      ],
      "metadata": {
        "id": "OvKmHSokHtCE"
      }
    },
    {
      "cell_type": "code",
      "source": [
        "pip install scholarly"
      ],
      "metadata": {
        "id": "4P8BCdRTJ2Y-"
      },
      "execution_count": null,
      "outputs": []
    },
    {
      "cell_type": "code",
      "execution_count": null,
      "metadata": {
        "id": "7epU0ZtKF0Fz"
      },
      "outputs": [],
      "source": [
        "from scholarly import scholarly\n",
        "import pandas as pd\n",
        "import csv"
      ]
    },
    {
      "cell_type": "markdown",
      "source": [
        "limit: Set the number of coauthors to search\n",
        "\n",
        "---\n",
        "\n",
        "storingDataFilename: The data will be stored in this file\n",
        "\n",
        "---\n",
        "\n",
        "errorListFilename: Any author that the scholarly API could not find or had issues with execution will be stored here.\n",
        "\n",
        "---\n"
      ],
      "metadata": {
        "id": "8WlUVGxeI5sP"
      }
    },
    {
      "cell_type": "code",
      "source": [
        "# Number of authors to extract data\n",
        "limit=10\n",
        "storingDataFilename = \"AuthorsData.csv\"\n",
        "errorListFilename = \"ErrorList.csv\""
      ],
      "metadata": {
        "id": "inOAe6TzGg8G"
      },
      "execution_count": null,
      "outputs": []
    },
    {
      "cell_type": "markdown",
      "source": [
        "Edit the seed and add your own seed for the execution"
      ],
      "metadata": {
        "id": "PF5rkuPZJtpc"
      }
    },
    {
      "cell_type": "code",
      "source": [
        "# List Seed\n",
        "\n",
        "author_list = ['Afra Mashhadi']"
      ],
      "metadata": {
        "id": "NPUWLbqHGx4k"
      },
      "execution_count": null,
      "outputs": []
    },
    {
      "cell_type": "code",
      "source": [
        "# Store results in File\n",
        "with open(storingDataFilename, mode='w', newline='', encoding='UTF8') as file:\n",
        "  writer = csv.writer(file)\n",
        "\n",
        "  # Write the header row\n",
        "  writer.writerow(['Name', 'Scholar ID', 'Co-Author Count','h-index', 'Cited by', 'Affiliation',\n",
        "                   \"Co-Authors IDs\", \"Co-Authors Name\"])\n",
        "\n",
        "\n",
        "  # Retrieve the author's data, fill-in, and print\n",
        "  # Get an iterator for the author results\n",
        "\n",
        "  count = 0\n",
        "  completed_list = []\n",
        "  error_list = []\n",
        "  for author_name in author_list:\n",
        "    coauthor_count=0\n",
        "\n",
        "    # Check if author has not been parsed\n",
        "    if(author_name not in completed_list):\n",
        "      try:\n",
        "        search_query = next(scholarly.search_author(author_name))\n",
        "        count= count + 1\n",
        "        # Retrieve all the details for the author\n",
        "        author = scholarly.fill(search_query)\n",
        "        print(count, author['name'])\n",
        "        coauthors_list = [i[\"name\"] for i in author[\"coauthors\"]]\n",
        "        coauthor_id = [i[\"scholar_id\"] for i in author[\"coauthors\"]]\n",
        "        coauthor_count = len(author[\"coauthors\"])\n",
        "        completed_list.append(author['name'])\n",
        "        author_list.extend(coauthors_list)\n",
        "        writer.writerow([author['name'], author['scholar_id'], str(coauthor_count), author['hindex'], author['citedby'], author['affiliation'], ', '.join(coauthor_id), ', '.join(coauthors_list)])\n",
        "\n",
        "        if(count==limit):\n",
        "          print(\"Last Author in the run:\", author['name'])\n",
        "          break\n",
        "      except:\n",
        "        print('Error in search for author: ',author_name)\n",
        "    else:\n",
        "      print(\"Author already parsed\",author_name)\n",
        "      error_list.append(author_name)\n",
        "\n",
        "\n",
        "with open(errorListFilename, mode='w', newline='', encoding='UTF8') as file:\n",
        "    writer = csv.writer(file)\n",
        "    writer.writerows([author] for author in error_list)"
      ],
      "metadata": {
        "colab": {
          "base_uri": "https://localhost:8080/"
        },
        "id": "eosBrDgPGHtu",
        "outputId": "499f3a6d-532f-403d-8ee9-7b7eb8a6c421"
      },
      "execution_count": null,
      "outputs": [
        {
          "output_type": "stream",
          "name": "stdout",
          "text": [
            "1 Afra Mashhadi\n",
            "2 Licia Capra\n",
            "3 Fahim Kawsar\n",
            "4 Giovanni Quattrone\n",
            "5 Akhil Mathur\n",
            "6 Sonia Ben Mokhtar\n",
            "7 Utku Günay Acer\n",
            "8 Chris Smith-Clarke\n",
            "9 Desislava Hristova\n",
            "10 Lingzhi Hong\n",
            "Last Author in the run: Lingzhi Hong\n"
          ]
        }
      ]
    }
  ]
}