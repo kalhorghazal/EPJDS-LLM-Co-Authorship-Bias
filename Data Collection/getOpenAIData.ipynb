{
  "cells": [
    {
      "cell_type": "markdown",
      "source": [
        "Extract Responses from OpenAI and merge Open AI data with Google Scholar data\n",
        "---\n"
      ],
      "metadata": {
        "id": "LtKiEeRW1c91"
      },
      "id": "LtKiEeRW1c91"
    },
    {
      "cell_type": "code",
      "execution_count": null,
      "id": "d0ef634a-295b-4ca0-bff2-8f567b8cae41",
      "metadata": {
        "id": "d0ef634a-295b-4ca0-bff2-8f567b8cae41"
      },
      "outputs": [],
      "source": [
        "import pandas as pd\n",
        "import os\n",
        "import getpass\n",
        "import openai\n",
        "import time\n",
        "import datetime"
      ]
    },
    {
      "cell_type": "code",
      "execution_count": null,
      "id": "934f3e86-a7db-429f-90f3-947c8066c107",
      "metadata": {
        "id": "934f3e86-a7db-429f-90f3-947c8066c107"
      },
      "outputs": [],
      "source": [
        "# store api key to env var\n",
        "os.environ[\"openai.api_key\"] = getpass.getpass()"
      ]
    },
    {
      "cell_type": "code",
      "execution_count": null,
      "id": "0d3d25b6-644b-48ce-a936-aa299d91a6e0",
      "metadata": {
        "id": "0d3d25b6-644b-48ce-a936-aa299d91a6e0"
      },
      "outputs": [],
      "source": [
        "# add key to api lib\n",
        "openai.api_key = os.environ[\"openai.api_key\"]"
      ]
    },
    {
      "cell_type": "code",
      "execution_count": null,
      "id": "74d2efd6-bc27-4505-897c-602123615c4a",
      "metadata": {
        "id": "74d2efd6-bc27-4505-897c-602123615c4a"
      },
      "outputs": [],
      "source": [
        "# api pram\n",
        "models = [\"text-davinci-003\"]\n",
        "temperatures = [0]\n",
        "max_tokens=3963"
      ]
    },
    {
      "cell_type": "markdown",
      "source": [
        "Use the output from the GoogleScholarExtractData.ipynb Notebook as input for this notebook."
      ],
      "metadata": {
        "id": "uThxTLi21kvb"
      },
      "id": "uThxTLi21kvb"
    },
    {
      "cell_type": "code",
      "execution_count": null,
      "id": "75664809-c65d-47fd-aad1-197ce2399c39",
      "metadata": {
        "id": "75664809-c65d-47fd-aad1-197ce2399c39"
      },
      "outputs": [],
      "source": [
        "# read scolar data\n",
        "df_scolar_authors = pd.read_csv(\"AuthorsData.csv\")"
      ]
    },
    {
      "cell_type": "code",
      "execution_count": null,
      "id": "d39b3a78-3ed7-4b3a-86d8-f940d1d811d0",
      "metadata": {
        "id": "d39b3a78-3ed7-4b3a-86d8-f940d1d811d0"
      },
      "outputs": [],
      "source": [
        "# get current date and time\n",
        "current_datetime = datetime.datetime.now()\n",
        "\n",
        "# format the date and time as a string\n",
        "formatted_datetime = current_datetime.strftime(\"%Y-%m-%d_%H-%M-%S\")\n",
        "\n",
        "# generate the file name using the formatted date and time\n",
        "file_name = f\"output_{formatted_datetime}.csv\"\n",
        "\n",
        "responses = []\n",
        "#loop over models\n",
        "for model in models:\n",
        "    #loop over temperatures\n",
        "    for temperature in temperatures:\n",
        "        # loop over authors and call openai api to get list of co-authers\n",
        "        for index, row in df_scolar_authors.iterrows():\n",
        "            name = row['Name']\n",
        "            affiliation = row['Affiliation']\n",
        "            num_co_auth = row['Co-Author Count']\n",
        "            scholar_id = row['Scholar ID']\n",
        "            prompt = prompt_generated.format(name,affiliation,num_co_auth)\n",
        "            # check if author has co-authers -- if not then skip\n",
        "            if num_co_auth > 0:\n",
        "                try:\n",
        "                    # call openai api to get list of co-authers\n",
        "                    start_time = time.time()\n",
        "                    response = openai.Completion.create(\n",
        "                        model=model,\n",
        "                        prompt=prompt,\n",
        "                        temperature=temperature,\n",
        "                        max_tokens=max_tokens,\n",
        "                        top_p=1,\n",
        "                        frequency_penalty=0,\n",
        "                        presence_penalty=0\n",
        "                    )\n",
        "                    end_time = time.time()\n",
        "                    #add api response to responses df\n",
        "                    response_time = end_time - start_time\n",
        "                    responses.append({\n",
        "                        'name': name,\n",
        "                        'affiliation':affiliation,\n",
        "                        'num_co_auth' :num_co_auth,\n",
        "                        'scholar_id':scholar_id,\n",
        "                        'prompt': prompt,\n",
        "                        'model': model,\n",
        "                        'temperature': temperature,\n",
        "                        'response': response.choices[0].text,\n",
        "                        'api_response': response,\n",
        "                        'response_time': response_time,\n",
        "                        'error': False,\n",
        "                        'error_msg': \"\",\n",
        "                        'response_time': response_time\n",
        "                    })\n",
        "                    df = pd.DataFrame(responses)\n",
        "                    df.to_csv(file_name, index=False)\n",
        "                except openai.error.OpenAIError as e:\n",
        "                    #add api error to responses df\n",
        "                    responses.append({\n",
        "                        'name': name,\n",
        "                        'affiliation':affiliation,\n",
        "                        'num_co_auth' :num_co_auth,\n",
        "                        'scholar_id':scholar_id,\n",
        "                        'prompt': prompt,\n",
        "                        'model': model,\n",
        "                        'temperature': temperature,\n",
        "                        'response': \"\",\n",
        "                        'api_response': response,\n",
        "                        'response_time': 0,\n",
        "                        'error': True,\n",
        "                        'error_msg': str(e),\n",
        "                        'response_time': 0\n",
        "                    })\n",
        "                    df = pd.DataFrame(responses)\n",
        "                    df.to_csv(file_name, index=False)\n",
        "                    continue\n",
        "\n",
        "\n"
      ]
    },
    {
      "cell_type": "code",
      "execution_count": null,
      "id": "dd086104-aa9d-49c1-9a81-5de830bc9c20",
      "metadata": {
        "id": "dd086104-aa9d-49c1-9a81-5de830bc9c20"
      },
      "outputs": [],
      "source": [
        "# read api ouput csv\n",
        "df_api_responses = pd.read_csv(file_name)"
      ]
    },
    {
      "cell_type": "code",
      "execution_count": null,
      "id": "5982a782-5448-4e4e-8117-5966ede88311",
      "metadata": {
        "id": "5982a782-5448-4e4e-8117-5966ede88311"
      },
      "outputs": [],
      "source": [
        "# collect reponses where model api response  did not porvide co-authors list but no error  and remove them\n",
        "df_api_res_unfortunately = df_api_responses[df_api_responses['response'].astype(str).str.startswith('\\n\\nUnfortunately,')]\n",
        "df_api_responses = df_api_responses[~df_api_responses['scholar_id'].isin(df_api_res_unfortunately['scholar_id'\n"
      ]
    },
    {
      "cell_type": "code",
      "execution_count": null,
      "id": "477ef0a4-788d-4955-841b-1abb653040ab",
      "metadata": {
        "id": "477ef0a4-788d-4955-841b-1abb653040ab"
      },
      "outputs": [],
      "source": [
        "# collect reponses where model api responsed with an error and remove them\n",
        "df_api_responses = df_api_responses[df_api_responses.error == False]"
      ]
    },
    {
      "cell_type": "code",
      "execution_count": null,
      "id": "3f6d8fb2-bab5-4921-a880-f2b1c9192447",
      "metadata": {
        "id": "3f6d8fb2-bab5-4921-a880-f2b1c9192447"
      },
      "outputs": [],
      "source": [
        "# save final openai api output excel file\n",
        "df_api_responses.to_excel(\"ResultGPT.xlsx\")"
      ]
    }
  ],
  "metadata": {
    "kernelspec": {
      "display_name": "Python 3.10 (tfmac)",
      "language": "python",
      "name": "tfmac"
    },
    "language_info": {
      "codemirror_mode": {
        "name": "ipython",
        "version": 3
      },
      "file_extension": ".py",
      "mimetype": "text/x-python",
      "name": "python",
      "nbconvert_exporter": "python",
      "pygments_lexer": "ipython3",
      "version": "3.10.11"
    },
    "colab": {
      "provenance": []
    }
  },
  "nbformat": 4,
  "nbformat_minor": 5
}